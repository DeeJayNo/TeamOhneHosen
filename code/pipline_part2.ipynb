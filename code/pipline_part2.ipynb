{
 "cells": [
  {
   "cell_type": "code",
   "execution_count": 1,
   "id": "34cabec0",
   "metadata": {},
   "outputs": [],
   "source": [
    "import numpy as np\n",
    "import pandas as pd\n",
    "import fileinput\n",
    "import json\n",
    "from tqdm import tqdm\n",
    "tqdm.pandas()"
   ]
  },
  {
   "cell_type": "code",
   "execution_count": 2,
   "id": "861bd595",
   "metadata": {},
   "outputs": [
    {
     "name": "stdout",
     "output_type": "stream",
     "text": [
      "CPU times: user 1min 10s, sys: 31.4 s, total: 1min 41s\n",
      "Wall time: 1min 41s\n"
     ]
    },
    {
     "data": {
      "text/html": [
       "<div>\n",
       "<style scoped>\n",
       "    .dataframe tbody tr th:only-of-type {\n",
       "        vertical-align: middle;\n",
       "    }\n",
       "\n",
       "    .dataframe tbody tr th {\n",
       "        vertical-align: top;\n",
       "    }\n",
       "\n",
       "    .dataframe thead th {\n",
       "        text-align: right;\n",
       "    }\n",
       "</style>\n",
       "<table border=\"1\" class=\"dataframe\">\n",
       "  <thead>\n",
       "    <tr style=\"text-align: right;\">\n",
       "      <th></th>\n",
       "      <th>title</th>\n",
       "      <th>author</th>\n",
       "      <th>content</th>\n",
       "    </tr>\n",
       "  </thead>\n",
       "  <tbody>\n",
       "    <tr>\n",
       "      <th>0</th>\n",
       "      <td>Danny Coale, Jarrett Boykin are a perfect 1-2 ...</td>\n",
       "      <td>Mark Giannotto</td>\n",
       "      <td>[{'content': 'Colleges', 'mime': 'text/plain',...</td>\n",
       "    </tr>\n",
       "    <tr>\n",
       "      <th>1</th>\n",
       "      <td>Bubbly planet Venus starts off New Year</td>\n",
       "      <td>Blaine P. Friedlander Jr.</td>\n",
       "      <td>[{'content': 'Local', 'mime': 'text/plain', 't...</td>\n",
       "    </tr>\n",
       "    <tr>\n",
       "      <th>2</th>\n",
       "      <td>Iowa caucuses: GOP presidential hopefuls makin...</td>\n",
       "      <td>Karen Tumulty</td>\n",
       "      <td>[{'content': 'Politics', 'mime': 'text/plain',...</td>\n",
       "    </tr>\n",
       "    <tr>\n",
       "      <th>3</th>\n",
       "      <td>John Wall, Wizards seek to pick up their spirits</td>\n",
       "      <td>Michael Lee</td>\n",
       "      <td>[{'content': 'Wizards/NBA', 'mime': 'text/plai...</td>\n",
       "    </tr>\n",
       "    <tr>\n",
       "      <th>4</th>\n",
       "      <td>Developer of Maryland housing office in Prince...</td>\n",
       "      <td>Ovetta Wiggins</td>\n",
       "      <td>[{'content': 'Local', 'mime': 'text/plain', 't...</td>\n",
       "    </tr>\n",
       "  </tbody>\n",
       "</table>\n",
       "</div>"
      ],
      "text/plain": [
       "                                               title  \\\n",
       "0  Danny Coale, Jarrett Boykin are a perfect 1-2 ...   \n",
       "1            Bubbly planet Venus starts off New Year   \n",
       "2  Iowa caucuses: GOP presidential hopefuls makin...   \n",
       "3   John Wall, Wizards seek to pick up their spirits   \n",
       "4  Developer of Maryland housing office in Prince...   \n",
       "\n",
       "                      author  \\\n",
       "0             Mark Giannotto   \n",
       "1  Blaine P. Friedlander Jr.   \n",
       "2              Karen Tumulty   \n",
       "3                Michael Lee   \n",
       "4             Ovetta Wiggins   \n",
       "\n",
       "                                             content  \n",
       "0  [{'content': 'Colleges', 'mime': 'text/plain',...  \n",
       "1  [{'content': 'Local', 'mime': 'text/plain', 't...  \n",
       "2  [{'content': 'Politics', 'mime': 'text/plain',...  \n",
       "3  [{'content': 'Wizards/NBA', 'mime': 'text/plai...  \n",
       "4  [{'content': 'Local', 'mime': 'text/plain', 't...  "
      ]
     },
     "execution_count": 2,
     "metadata": {},
     "output_type": "execute_result"
    }
   ],
   "source": [
    "%%time\n",
    "\n",
    "df = pd.read_json('export-1_k.json')\n",
    "  \n",
    "df.head()"
   ]
  },
  {
   "cell_type": "code",
   "execution_count": null,
   "id": "08d89568",
   "metadata": {},
   "outputs": [],
   "source": []
  },
  {
   "cell_type": "code",
   "execution_count": 4,
   "id": "3b47f786",
   "metadata": {},
   "outputs": [
    {
     "name": "stdout",
     "output_type": "stream",
     "text": [
      "CPU times: user 38 s, sys: 18 s, total: 56.1 s\n",
      "Wall time: 56 s\n"
     ]
    }
   ],
   "source": [
    "%%time\n",
    "maxx= len(df)\n",
    "abschnitt = int(maxx/20)\n",
    "\n",
    "start = 0\n",
    "end = abschnitt\n",
    "\n",
    "while(end <= maxx):\n",
    "    df[start:end].to_json(\"chunks_kk/\"+str(start)+\"-\"+str(end-1)+\".json\",orient=\"index\")\n",
    "    start = start + abschnitt\n",
    "    end = end + abschnitt"
   ]
  },
  {
   "cell_type": "code",
   "execution_count": null,
   "id": "50222c34",
   "metadata": {},
   "outputs": [],
   "source": []
  },
  {
   "cell_type": "code",
   "execution_count": null,
   "id": "c9f90f09",
   "metadata": {},
   "outputs": [],
   "source": []
  },
  {
   "cell_type": "code",
   "execution_count": null,
   "id": "51fa6d3b",
   "metadata": {},
   "outputs": [],
   "source": []
  },
  {
   "cell_type": "code",
   "execution_count": null,
   "id": "c0cbc302",
   "metadata": {},
   "outputs": [],
   "source": []
  }
 ],
 "metadata": {
  "kernelspec": {
   "display_name": "Python 3 (ipykernel)",
   "language": "python",
   "name": "python3"
  },
  "language_info": {
   "codemirror_mode": {
    "name": "ipython",
    "version": 3
   },
   "file_extension": ".py",
   "mimetype": "text/x-python",
   "name": "python",
   "nbconvert_exporter": "python",
   "pygments_lexer": "ipython3",
   "version": "3.8.10"
  }
 },
 "nbformat": 4,
 "nbformat_minor": 5
}
