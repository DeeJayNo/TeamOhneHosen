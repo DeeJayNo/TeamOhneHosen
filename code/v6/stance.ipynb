{
 "cells": [
  {
   "cell_type": "code",
   "execution_count": null,
   "metadata": {},
   "outputs": [],
   "source": [
    "# Nötige Imports\n",
    "from transformers import AutoTokenizer, AutoModelForSequenceClassification, RobertaTokenizer\n",
    "import tensorflow as tf\n",
    "tf.keras.__version__\n",
    "import torch\n",
    "from transformers import pipeline\n",
    "import glob\n",
    "from tqdm import tqdm\n",
    "import pandas as pd\n",
    "import fileinput\n",
    "\n",
    "# GPU benutzen\n",
    "try:\n",
    "    print(\"Num GPUs Available: \", len(tf.config.list_physical_devices('GPU')))\n",
    "    device = \"cuda:0\" if torch.cuda.is_available() else \"cpu\"\n",
    "    print(\"Cuda available: \", torch.cuda.is_available())\n",
    "    print(\"Cuda current device: \", torch.cuda.current_device())\n",
    "    print(\"Cuda device s: \", torch.cuda.device(0))\n",
    "    print(\"Cuda device count: \", torch.cuda.device_count())\n",
    "    print(\"Cuda device name: \", torch.cuda.get_device_name(0))\n",
    "    gpus = tf.config.experimental.list_physical_devices('GPU')\n",
    "    memli=4000\n",
    "    if gpus:\n",
    "        try:\n",
    "            tf.config.experimental.set_virtual_device_configuration(\n",
    "            gpus[0],[tf.config.experimental.VirtualDeviceConfiguration(memory_limit=memli)])\n",
    "            print(\"Memory limit for gpu is\", memli,\"mb\")\n",
    "        except RuntimeError as e:\n",
    "            print(e)\n",
    "except RuntimeError as e:\n",
    "    print(\"no gpu\")"
   ]
  },
  {
   "cell_type": "code",
   "execution_count": 2,
   "metadata": {},
   "outputs": [],
   "source": [
    "tqdm.pandas()"
   ]
  },
  {
   "cell_type": "code",
   "execution_count": 3,
   "metadata": {},
   "outputs": [],
   "source": [
    "# Tokenizer importieren, Modell erstellen\n",
    "tokenizer2 =  RobertaTokenizer.from_pretrained(\"bhadresh-savani/roberta-base-emotion\", do_lower_case=True)\n",
    "\n",
    "# BERT-Pipeline erstellen\n",
    "classifier = pipeline(\"text-classification\",model='bhadresh-savani/roberta-base-emotion', return_all_scores=True)\n"
   ]
  },
  {
   "cell_type": "code",
   "execution_count": 4,
   "metadata": {},
   "outputs": [],
   "source": [
    "# Funktion zur Ermittlung des Durchschnitts der Scores\n",
    "def calc_scores (temp_list_pred):\n",
    "    score_sadness = 0\n",
    "    score_joy = 0\n",
    "    score_love = 0\n",
    "    score_anger = 0\n",
    "    score_fear = 0\n",
    "    score_suprise = 0\n",
    "\n",
    "    for x in temp_list_pred:\n",
    "        score_sadness += x[0][0][\"score\"]\n",
    "        score_joy += x[0][1][\"score\"]\n",
    "        score_love += x[0][2][\"score\"]\n",
    "        score_anger += x[0][3][\"score\"]\n",
    "        score_fear += x[0][4][\"score\"]\n",
    "        score_suprise += x[0][5][\"score\"]\n",
    "\n",
    "    score_sadness = score_sadness/le\n",
    "    score_joy = score_joy/le\n",
    "    score_love = score_love/le\n",
    "    score_anger = score_anger/le \n",
    "    score_fear = score_fear/le\n",
    "    score_suprise = score_suprise/le\n",
    "    list_all = [score_sadness,score_joy,score_love,score_anger,score_fear,score_suprise]\n",
    "    \n",
    "    return(list_all)"
   ]
  },
  {
   "cell_type": "markdown",
   "metadata": {},
   "source": [
    "### Modell anwenden"
   ]
  },
  {
   "cell_type": "code",
   "execution_count": 5,
   "metadata": {
    "tags": []
   },
   "outputs": [
    {
     "name": "stdout",
     "output_type": "stream",
     "text": [
      "reading from: rdy/16/test/1_rdy.pkl\n"
     ]
    }
   ],
   "source": [
    "# Variablen erstellen\n",
    "temp_list_pred=[]\n",
    "list_pred = []\n",
    "\n",
    "# Loop durch in Daten-Pipeline erstellte Exports\n",
    "for files in glob.glob(\"rdy/16/test/*.json\"):\n",
    "    print(\"reading from: \"+ files)\n",
    "    # DF einlesen\n",
    "    df = pd.read_json(files)\n",
    "    \n",
    "    # DF kürzen für Prototyp\n",
    "    df = df[:5]\n",
    "    \n",
    "    # Loop durch DF\n",
    "    for lines in df.content:\n",
    "        \n",
    "        # Wenn über 500 Chars, dann durchreichen in einzelnen Teilen zur Analyse-Pipeline\n",
    "        if len(lines) >= 500:\n",
    "\n",
    "            # Temporäre Variablen\n",
    "            le = int(len(lines)/500)\n",
    "            start = 0\n",
    "            end = 500\n",
    "            i = 1 \n",
    "\n",
    "            while i <= le:\n",
    "                prediction = classifier(lines[start:end],)\n",
    "                temp_list_pred.append(prediction)\n",
    "                start = end\n",
    "                end = end + 500\n",
    "                i+=1\n",
    "\n",
    "            prediction = classifier(lines[start:len(lines)],)\n",
    "            temp_list_pred.append(prediction)\n",
    "\n",
    "        else:\n",
    "            prediction = classifier(lines,)\n",
    "            temp_list_pred.append(prediction)\n",
    "\n",
    "        # Ermittlung der Score Durchschnitte\n",
    "        res = calc_scores(temp_list_pred)\n",
    "        list_pred.append(res)\n",
    "        \n",
    "    # Predictions an DF anhängen\n",
    "    df[\"scores\"] = list_pred\n",
    "    \n",
    "    "
   ]
  },
  {
   "cell_type": "code",
   "execution_count": 6,
   "metadata": {},
   "outputs": [
    {
     "data": {
      "text/html": [
       "<div>\n",
       "<style scoped>\n",
       "    .dataframe tbody tr th:only-of-type {\n",
       "        vertical-align: middle;\n",
       "    }\n",
       "\n",
       "    .dataframe tbody tr th {\n",
       "        vertical-align: top;\n",
       "    }\n",
       "\n",
       "    .dataframe thead th {\n",
       "        text-align: right;\n",
       "    }\n",
       "</style>\n",
       "<table border=\"1\" class=\"dataframe\">\n",
       "  <thead>\n",
       "    <tr style=\"text-align: right;\">\n",
       "      <th></th>\n",
       "      <th>Kategorie</th>\n",
       "      <th>Titel</th>\n",
       "      <th>Autor</th>\n",
       "      <th>Datum</th>\n",
       "      <th>content</th>\n",
       "      <th>scores</th>\n",
       "    </tr>\n",
       "    <tr>\n",
       "      <th>index</th>\n",
       "      <th></th>\n",
       "      <th></th>\n",
       "      <th></th>\n",
       "      <th></th>\n",
       "      <th></th>\n",
       "      <th></th>\n",
       "    </tr>\n",
       "  </thead>\n",
       "  <tbody>\n",
       "    <tr>\n",
       "      <th>0</th>\n",
       "      <td>Local</td>\n",
       "      <td>Bubbly planet Venus starts off New Year</td>\n",
       "      <td>Blaine P. Friedlander Jr.</td>\n",
       "      <td>2012-01-01T00:12:09Z</td>\n",
       "      <td>Set down your champagne and gaze west, as the ...</td>\n",
       "      <td>[0.015503243077546358, 0.9968882288251605, 0.0...</td>\n",
       "    </tr>\n",
       "    <tr>\n",
       "      <th>1</th>\n",
       "      <td>Politics</td>\n",
       "      <td>Iowa caucuses: GOP presidential hopefuls makin...</td>\n",
       "      <td>Karen Tumulty</td>\n",
       "      <td>2012-01-01T01:55:00Z</td>\n",
       "      <td>DES MOINES — Two days before the voting begins...</td>\n",
       "      <td>[0.03354516475902576, 1.1122658785040442, 0.01...</td>\n",
       "    </tr>\n",
       "    <tr>\n",
       "      <th>2</th>\n",
       "      <td>Local</td>\n",
       "      <td>Developer of Maryland housing office in Prince...</td>\n",
       "      <td>Ovetta Wiggins</td>\n",
       "      <td>2012-01-01T00:56:45Z</td>\n",
       "      <td>A developer who stands to gain millions by bui...</td>\n",
       "      <td>[0.09093900460616819, 1.9472337840124965, 0.03...</td>\n",
       "    </tr>\n",
       "    <tr>\n",
       "      <th>3</th>\n",
       "      <td>Politics</td>\n",
       "      <td>Many Iowans still don’t know who they will cau...</td>\n",
       "      <td>Jason Horowitz</td>\n",
       "      <td>2012-01-01T01:17:00Z</td>\n",
       "      <td>Early last week, a postcard advertising a rall...</td>\n",
       "      <td>[0.17550780467822083, 2.6054160420649817, 0.04...</td>\n",
       "    </tr>\n",
       "    <tr>\n",
       "      <th>4</th>\n",
       "      <td>Local</td>\n",
       "      <td>As homicides fall in D.C., rise in Prince Geor...</td>\n",
       "      <td>Allison Klein; Matt Zapotosky</td>\n",
       "      <td>2012-01-01T01:37:52Z</td>\n",
       "      <td>The District and Prince George’s County had ne...</td>\n",
       "      <td>[0.19807116012088954, 2.3372668397302427, 0.04...</td>\n",
       "    </tr>\n",
       "  </tbody>\n",
       "</table>\n",
       "</div>"
      ],
      "text/plain": [
       "      Kategorie                                              Titel  \\\n",
       "index                                                                \n",
       "0         Local            Bubbly planet Venus starts off New Year   \n",
       "1      Politics  Iowa caucuses: GOP presidential hopefuls makin...   \n",
       "2         Local  Developer of Maryland housing office in Prince...   \n",
       "3      Politics  Many Iowans still don’t know who they will cau...   \n",
       "4         Local  As homicides fall in D.C., rise in Prince Geor...   \n",
       "\n",
       "                               Autor                 Datum  \\\n",
       "index                                                        \n",
       "0          Blaine P. Friedlander Jr.  2012-01-01T00:12:09Z   \n",
       "1                      Karen Tumulty  2012-01-01T01:55:00Z   \n",
       "2                     Ovetta Wiggins  2012-01-01T00:56:45Z   \n",
       "3                     Jason Horowitz  2012-01-01T01:17:00Z   \n",
       "4      Allison Klein; Matt Zapotosky  2012-01-01T01:37:52Z   \n",
       "\n",
       "                                                 content  \\\n",
       "index                                                      \n",
       "0      Set down your champagne and gaze west, as the ...   \n",
       "1      DES MOINES — Two days before the voting begins...   \n",
       "2      A developer who stands to gain millions by bui...   \n",
       "3      Early last week, a postcard advertising a rall...   \n",
       "4      The District and Prince George’s County had ne...   \n",
       "\n",
       "                                                  scores  \n",
       "index                                                     \n",
       "0      [0.015503243077546358, 0.9968882288251605, 0.0...  \n",
       "1      [0.03354516475902576, 1.1122658785040442, 0.01...  \n",
       "2      [0.09093900460616819, 1.9472337840124965, 0.03...  \n",
       "3      [0.17550780467822083, 2.6054160420649817, 0.04...  \n",
       "4      [0.19807116012088954, 2.3372668397302427, 0.04...  "
      ]
     },
     "execution_count": 6,
     "metadata": {},
     "output_type": "execute_result"
    }
   ],
   "source": [
    "df"
   ]
  },
  {
   "cell_type": "markdown",
   "metadata": {},
   "source": [
    "0\tsadness <br>\n",
    "1 \tjoy <br>\n",
    "2\tlove <br>\n",
    "3\tanger <br>\n",
    "4\tfear <br>\n",
    "5\tsuprise <br>\n"
   ]
  },
  {
   "cell_type": "code",
   "execution_count": null,
   "metadata": {},
   "outputs": [],
   "source": [
    "import pprint\n",
    "\n",
    "pp = pprint.PrettyPrinter(indent=4)"
   ]
  }
 ],
 "metadata": {
  "kernelspec": {
   "display_name": "Python 3 (ipykernel)",
   "language": "python",
   "name": "python3"
  },
  "language_info": {
   "codemirror_mode": {
    "name": "ipython",
    "version": 3
   },
   "file_extension": ".py",
   "mimetype": "text/x-python",
   "name": "python",
   "nbconvert_exporter": "python",
   "pygments_lexer": "ipython3",
   "version": "3.9.12"
  },
  "vscode": {
   "interpreter": {
    "hash": "632924e73c662d7eb2092878768cabae4c1618472e5b2e0bb7284b4110ee9d56"
   }
  }
 },
 "nbformat": 4,
 "nbformat_minor": 4
}
