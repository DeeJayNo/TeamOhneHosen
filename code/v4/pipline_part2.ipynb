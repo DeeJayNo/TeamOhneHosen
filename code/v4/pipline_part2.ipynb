{
 "cells": [
  {
   "cell_type": "code",
   "execution_count": 1,
   "id": "34cabec0",
   "metadata": {},
   "outputs": [],
   "source": [
    "import numpy as np\n",
    "import pandas as pd\n",
    "import fileinput\n",
    "import json\n",
    "from tqdm import tqdm\n",
    "tqdm.pandas()"
   ]
  },
  {
   "cell_type": "code",
   "execution_count": 2,
   "id": "861bd595",
   "metadata": {},
   "outputs": [
    {
     "name": "stdout",
     "output_type": "stream",
     "text": [
      "CPU times: user 1min 21s, sys: 35.6 s, total: 1min 57s\n",
      "Wall time: 1min 56s\n"
     ]
    },
    {
     "data": {
      "text/html": [
       "<div>\n",
       "<style scoped>\n",
       "    .dataframe tbody tr th:only-of-type {\n",
       "        vertical-align: middle;\n",
       "    }\n",
       "\n",
       "    .dataframe tbody tr th {\n",
       "        vertical-align: top;\n",
       "    }\n",
       "\n",
       "    .dataframe thead th {\n",
       "        text-align: right;\n",
       "    }\n",
       "</style>\n",
       "<table border=\"1\" class=\"dataframe\">\n",
       "  <thead>\n",
       "    <tr style=\"text-align: right;\">\n",
       "      <th></th>\n",
       "      <th>contents</th>\n",
       "    </tr>\n",
       "  </thead>\n",
       "  <tbody>\n",
       "    <tr>\n",
       "      <th>0</th>\n",
       "      <td>[{'content': 'Colleges', 'mime': 'text/plain',...</td>\n",
       "    </tr>\n",
       "    <tr>\n",
       "      <th>1</th>\n",
       "      <td>[{'content': 'Local', 'mime': 'text/plain', 't...</td>\n",
       "    </tr>\n",
       "    <tr>\n",
       "      <th>10</th>\n",
       "      <td>[{'content': 'Local', 'mime': 'text/plain', 't...</td>\n",
       "    </tr>\n",
       "    <tr>\n",
       "      <th>100</th>\n",
       "      <td>[{'content': 'Redskins/NFL', 'mime': 'text/pla...</td>\n",
       "    </tr>\n",
       "    <tr>\n",
       "      <th>1000</th>\n",
       "      <td>[{'content': 'Politics', 'mime': 'text/plain',...</td>\n",
       "    </tr>\n",
       "  </tbody>\n",
       "</table>\n",
       "</div>"
      ],
      "text/plain": [
       "                                               contents\n",
       "0     [{'content': 'Colleges', 'mime': 'text/plain',...\n",
       "1     [{'content': 'Local', 'mime': 'text/plain', 't...\n",
       "10    [{'content': 'Local', 'mime': 'text/plain', 't...\n",
       "100   [{'content': 'Redskins/NFL', 'mime': 'text/pla...\n",
       "1000  [{'content': 'Politics', 'mime': 'text/plain',..."
      ]
     },
     "execution_count": 2,
     "metadata": {},
     "output_type": "execute_result"
    }
   ],
   "source": [
    "%%time\n",
    "\n",
    "df = pd.read_json('export-4_k.json', orient = \"index\")\n",
    "  \n",
    "df.head()"
   ]
  },
  {
   "cell_type": "code",
   "execution_count": 3,
   "id": "16beac74-a019-4da3-a29c-94649b0bf1d6",
   "metadata": {},
   "outputs": [
    {
     "data": {
      "text/plain": [
       "728626"
      ]
     },
     "execution_count": 3,
     "metadata": {},
     "output_type": "execute_result"
    }
   ],
   "source": [
    "len(df)"
   ]
  },
  {
   "cell_type": "code",
   "execution_count": 4,
   "id": "08d89568",
   "metadata": {},
   "outputs": [],
   "source": [
    "df12 = df.sample(n = 12000)"
   ]
  },
  {
   "cell_type": "code",
   "execution_count": 5,
   "id": "bb560104-4152-4a46-990f-b7dc74acaea0",
   "metadata": {},
   "outputs": [
    {
     "data": {
      "text/html": [
       "<div>\n",
       "<style scoped>\n",
       "    .dataframe tbody tr th:only-of-type {\n",
       "        vertical-align: middle;\n",
       "    }\n",
       "\n",
       "    .dataframe tbody tr th {\n",
       "        vertical-align: top;\n",
       "    }\n",
       "\n",
       "    .dataframe thead th {\n",
       "        text-align: right;\n",
       "    }\n",
       "</style>\n",
       "<table border=\"1\" class=\"dataframe\">\n",
       "  <thead>\n",
       "    <tr style=\"text-align: right;\">\n",
       "      <th></th>\n",
       "      <th>contents</th>\n",
       "    </tr>\n",
       "  </thead>\n",
       "  <tbody>\n",
       "    <tr>\n",
       "      <th>447217</th>\n",
       "      <td>[{'content': 'Grade Point', 'mime': 'text/plai...</td>\n",
       "    </tr>\n",
       "    <tr>\n",
       "      <th>417527</th>\n",
       "      <td>[{'content': 'Speaking of Science', 'mime': 't...</td>\n",
       "    </tr>\n",
       "    <tr>\n",
       "      <th>706631</th>\n",
       "      <td>[{'content': 'Virginia Politics', 'mime': 'tex...</td>\n",
       "    </tr>\n",
       "    <tr>\n",
       "      <th>206034</th>\n",
       "      <td>[{'content': 'Home &amp; Garden', 'mime': 'text/pl...</td>\n",
       "    </tr>\n",
       "    <tr>\n",
       "      <th>506469</th>\n",
       "      <td>[{'content': 'Checkpoint', 'mime': 'text/plain...</td>\n",
       "    </tr>\n",
       "    <tr>\n",
       "      <th>...</th>\n",
       "      <td>...</td>\n",
       "    </tr>\n",
       "    <tr>\n",
       "      <th>543126</th>\n",
       "      <td>[{'content': 'Economic Policy', 'mime': 'text/...</td>\n",
       "    </tr>\n",
       "    <tr>\n",
       "      <th>595805</th>\n",
       "      <td>[{'content': 'Washington Redskins', 'mime': 't...</td>\n",
       "    </tr>\n",
       "    <tr>\n",
       "      <th>162687</th>\n",
       "      <td>[{'content': 'Opinions', 'mime': 'text/plain',...</td>\n",
       "    </tr>\n",
       "    <tr>\n",
       "      <th>91604</th>\n",
       "      <td>[{'content': 'Style', 'mime': 'text/plain', 't...</td>\n",
       "    </tr>\n",
       "    <tr>\n",
       "      <th>615730</th>\n",
       "      <td>[{'content': 'College Sports', 'mime': 'text/p...</td>\n",
       "    </tr>\n",
       "  </tbody>\n",
       "</table>\n",
       "<p>12000 rows × 1 columns</p>\n",
       "</div>"
      ],
      "text/plain": [
       "                                                 contents\n",
       "447217  [{'content': 'Grade Point', 'mime': 'text/plai...\n",
       "417527  [{'content': 'Speaking of Science', 'mime': 't...\n",
       "706631  [{'content': 'Virginia Politics', 'mime': 'tex...\n",
       "206034  [{'content': 'Home & Garden', 'mime': 'text/pl...\n",
       "506469  [{'content': 'Checkpoint', 'mime': 'text/plain...\n",
       "...                                                   ...\n",
       "543126  [{'content': 'Economic Policy', 'mime': 'text/...\n",
       "595805  [{'content': 'Washington Redskins', 'mime': 't...\n",
       "162687  [{'content': 'Opinions', 'mime': 'text/plain',...\n",
       "91604   [{'content': 'Style', 'mime': 'text/plain', 't...\n",
       "615730  [{'content': 'College Sports', 'mime': 'text/p...\n",
       "\n",
       "[12000 rows x 1 columns]"
      ]
     },
     "execution_count": 5,
     "metadata": {},
     "output_type": "execute_result"
    }
   ],
   "source": [
    "df12"
   ]
  },
  {
   "cell_type": "code",
   "execution_count": 7,
   "id": "3b47f786",
   "metadata": {},
   "outputs": [
    {
     "name": "stdout",
     "output_type": "stream",
     "text": [
      "CPU times: user 640 ms, sys: 300 ms, total: 940 ms\n",
      "Wall time: 938 ms\n"
     ]
    }
   ],
   "source": [
    "%%time\n",
    "maxx= len(df12)\n",
    "abschnitt = int(maxx/6)\n",
    "i = 1\n",
    "start = 0\n",
    "end = abschnitt\n",
    "\n",
    "while(end <= maxx):\n",
    "    df[start:end].to_json(\"12_4/\"+str(i)+\".json\",orient =\"index\")\n",
    "    start = start + abschnitt\n",
    "    end = end + abschnitt\n",
    "    i+=1"
   ]
  },
  {
   "cell_type": "code",
   "execution_count": null,
   "id": "130eb25f-c919-4627-889d-ae52b5a78012",
   "metadata": {},
   "outputs": [],
   "source": []
  }
 ],
 "metadata": {
  "kernelspec": {
   "display_name": "Python 3 (ipykernel)",
   "language": "python",
   "name": "python3"
  },
  "language_info": {
   "codemirror_mode": {
    "name": "ipython",
    "version": 3
   },
   "file_extension": ".py",
   "mimetype": "text/x-python",
   "name": "python",
   "nbconvert_exporter": "python",
   "pygments_lexer": "ipython3",
   "version": "3.8.10"
  }
 },
 "nbformat": 4,
 "nbformat_minor": 5
}
