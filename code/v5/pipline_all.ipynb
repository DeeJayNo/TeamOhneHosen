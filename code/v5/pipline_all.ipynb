{
 "cells": [
  {
   "cell_type": "code",
   "execution_count": null,
   "id": "64021e6f",
   "metadata": {},
   "outputs": [],
   "source": [
    "import numpy as np\n",
    "import pandas as pd\n",
    "import fileinput\n",
    "import json\n",
    "from tqdm import tqdm\n",
    "tqdm.pandas()\n",
    "\n",
    "import pickle\n",
    "\n",
    "from tssplit import tssplit\n",
    "import re"
   ]
  },
  {
   "cell_type": "markdown",
   "id": "66999d4b",
   "metadata": {},
   "source": [
    "!pip3 install numpy"
   ]
  },
  {
   "cell_type": "code",
   "execution_count": null,
   "id": "83dc9524",
   "metadata": {
    "tags": []
   },
   "outputs": [
    {
     "ename": "ValueError",
     "evalue": "Expected object or value",
     "output_type": "error",
     "traceback": [
      "\u001b[0;31m---------------------------------------------------------------------------\u001b[0m",
      "\u001b[0;31mValueError\u001b[0m                                Traceback (most recent call last)",
      "File \u001b[0;32m<timed exec>:1\u001b[0m, in \u001b[0;36m<module>\u001b[0;34m\u001b[0m\n",
      "File \u001b[0;32m~/anaconda3/lib/python3.9/site-packages/pandas/util/_decorators.py:207\u001b[0m, in \u001b[0;36mdeprecate_kwarg.<locals>._deprecate_kwarg.<locals>.wrapper\u001b[0;34m(*args, **kwargs)\u001b[0m\n\u001b[1;32m    205\u001b[0m     \u001b[39melse\u001b[39;00m:\n\u001b[1;32m    206\u001b[0m         kwargs[new_arg_name] \u001b[39m=\u001b[39m new_arg_value\n\u001b[0;32m--> 207\u001b[0m \u001b[39mreturn\u001b[39;00m func(\u001b[39m*\u001b[39;49margs, \u001b[39m*\u001b[39;49m\u001b[39m*\u001b[39;49mkwargs)\n",
      "File \u001b[0;32m~/anaconda3/lib/python3.9/site-packages/pandas/util/_decorators.py:311\u001b[0m, in \u001b[0;36mdeprecate_nonkeyword_arguments.<locals>.decorate.<locals>.wrapper\u001b[0;34m(*args, **kwargs)\u001b[0m\n\u001b[1;32m    305\u001b[0m \u001b[39mif\u001b[39;00m \u001b[39mlen\u001b[39m(args) \u001b[39m>\u001b[39m num_allow_args:\n\u001b[1;32m    306\u001b[0m     warnings\u001b[39m.\u001b[39mwarn(\n\u001b[1;32m    307\u001b[0m         msg\u001b[39m.\u001b[39mformat(arguments\u001b[39m=\u001b[39marguments),\n\u001b[1;32m    308\u001b[0m         \u001b[39mFutureWarning\u001b[39;00m,\n\u001b[1;32m    309\u001b[0m         stacklevel\u001b[39m=\u001b[39mstacklevel,\n\u001b[1;32m    310\u001b[0m     )\n\u001b[0;32m--> 311\u001b[0m \u001b[39mreturn\u001b[39;00m func(\u001b[39m*\u001b[39;49margs, \u001b[39m*\u001b[39;49m\u001b[39m*\u001b[39;49mkwargs)\n",
      "File \u001b[0;32m~/anaconda3/lib/python3.9/site-packages/pandas/io/json/_json.py:612\u001b[0m, in \u001b[0;36mread_json\u001b[0;34m(path_or_buf, orient, typ, dtype, convert_axes, convert_dates, keep_default_dates, numpy, precise_float, date_unit, encoding, encoding_errors, lines, chunksize, compression, nrows, storage_options)\u001b[0m\n\u001b[1;32m    609\u001b[0m     \u001b[39mreturn\u001b[39;00m json_reader\n\u001b[1;32m    611\u001b[0m \u001b[39mwith\u001b[39;00m json_reader:\n\u001b[0;32m--> 612\u001b[0m     \u001b[39mreturn\u001b[39;00m json_reader\u001b[39m.\u001b[39;49mread()\n",
      "File \u001b[0;32m~/anaconda3/lib/python3.9/site-packages/pandas/io/json/_json.py:744\u001b[0m, in \u001b[0;36mJsonReader.read\u001b[0;34m(self)\u001b[0m\n\u001b[1;32m    742\u001b[0m         data \u001b[39m=\u001b[39m ensure_str(\u001b[39mself\u001b[39m\u001b[39m.\u001b[39mdata)\n\u001b[1;32m    743\u001b[0m         data_lines \u001b[39m=\u001b[39m data\u001b[39m.\u001b[39msplit(\u001b[39m\"\u001b[39m\u001b[39m\\n\u001b[39;00m\u001b[39m\"\u001b[39m)\n\u001b[0;32m--> 744\u001b[0m         obj \u001b[39m=\u001b[39m \u001b[39mself\u001b[39;49m\u001b[39m.\u001b[39;49m_get_object_parser(\u001b[39mself\u001b[39;49m\u001b[39m.\u001b[39;49m_combine_lines(data_lines))\n\u001b[1;32m    745\u001b[0m \u001b[39melse\u001b[39;00m:\n\u001b[1;32m    746\u001b[0m     obj \u001b[39m=\u001b[39m \u001b[39mself\u001b[39m\u001b[39m.\u001b[39m_get_object_parser(\u001b[39mself\u001b[39m\u001b[39m.\u001b[39mdata)\n",
      "File \u001b[0;32m~/anaconda3/lib/python3.9/site-packages/pandas/io/json/_json.py:768\u001b[0m, in \u001b[0;36mJsonReader._get_object_parser\u001b[0;34m(self, json)\u001b[0m\n\u001b[1;32m    766\u001b[0m obj \u001b[39m=\u001b[39m \u001b[39mNone\u001b[39;00m\n\u001b[1;32m    767\u001b[0m \u001b[39mif\u001b[39;00m typ \u001b[39m==\u001b[39m \u001b[39m\"\u001b[39m\u001b[39mframe\u001b[39m\u001b[39m\"\u001b[39m:\n\u001b[0;32m--> 768\u001b[0m     obj \u001b[39m=\u001b[39m FrameParser(json, \u001b[39m*\u001b[39;49m\u001b[39m*\u001b[39;49mkwargs)\u001b[39m.\u001b[39;49mparse()\n\u001b[1;32m    770\u001b[0m \u001b[39mif\u001b[39;00m typ \u001b[39m==\u001b[39m \u001b[39m\"\u001b[39m\u001b[39mseries\u001b[39m\u001b[39m\"\u001b[39m \u001b[39mor\u001b[39;00m obj \u001b[39mis\u001b[39;00m \u001b[39mNone\u001b[39;00m:\n\u001b[1;32m    771\u001b[0m     \u001b[39mif\u001b[39;00m \u001b[39mnot\u001b[39;00m \u001b[39misinstance\u001b[39m(dtype, \u001b[39mbool\u001b[39m):\n",
      "File \u001b[0;32m~/anaconda3/lib/python3.9/site-packages/pandas/io/json/_json.py:880\u001b[0m, in \u001b[0;36mParser.parse\u001b[0;34m(self)\u001b[0m\n\u001b[1;32m    878\u001b[0m     \u001b[39mself\u001b[39m\u001b[39m.\u001b[39m_parse_numpy()\n\u001b[1;32m    879\u001b[0m \u001b[39melse\u001b[39;00m:\n\u001b[0;32m--> 880\u001b[0m     \u001b[39mself\u001b[39;49m\u001b[39m.\u001b[39;49m_parse_no_numpy()\n\u001b[1;32m    882\u001b[0m \u001b[39mif\u001b[39;00m \u001b[39mself\u001b[39m\u001b[39m.\u001b[39mobj \u001b[39mis\u001b[39;00m \u001b[39mNone\u001b[39;00m:\n\u001b[1;32m    883\u001b[0m     \u001b[39mreturn\u001b[39;00m \u001b[39mNone\u001b[39;00m\n",
      "File \u001b[0;32m~/anaconda3/lib/python3.9/site-packages/pandas/io/json/_json.py:1133\u001b[0m, in \u001b[0;36mFrameParser._parse_no_numpy\u001b[0;34m(self)\u001b[0m\n\u001b[1;32m   1129\u001b[0m orient \u001b[39m=\u001b[39m \u001b[39mself\u001b[39m\u001b[39m.\u001b[39morient\n\u001b[1;32m   1131\u001b[0m \u001b[39mif\u001b[39;00m orient \u001b[39m==\u001b[39m \u001b[39m\"\u001b[39m\u001b[39mcolumns\u001b[39m\u001b[39m\"\u001b[39m:\n\u001b[1;32m   1132\u001b[0m     \u001b[39mself\u001b[39m\u001b[39m.\u001b[39mobj \u001b[39m=\u001b[39m DataFrame(\n\u001b[0;32m-> 1133\u001b[0m         loads(json, precise_float\u001b[39m=\u001b[39;49m\u001b[39mself\u001b[39;49m\u001b[39m.\u001b[39;49mprecise_float), dtype\u001b[39m=\u001b[39m\u001b[39mNone\u001b[39;00m\n\u001b[1;32m   1134\u001b[0m     )\n\u001b[1;32m   1135\u001b[0m \u001b[39melif\u001b[39;00m orient \u001b[39m==\u001b[39m \u001b[39m\"\u001b[39m\u001b[39msplit\u001b[39m\u001b[39m\"\u001b[39m:\n\u001b[1;32m   1136\u001b[0m     decoded \u001b[39m=\u001b[39m {\n\u001b[1;32m   1137\u001b[0m         \u001b[39mstr\u001b[39m(k): v\n\u001b[1;32m   1138\u001b[0m         \u001b[39mfor\u001b[39;00m k, v \u001b[39min\u001b[39;00m loads(json, precise_float\u001b[39m=\u001b[39m\u001b[39mself\u001b[39m\u001b[39m.\u001b[39mprecise_float)\u001b[39m.\u001b[39mitems()\n\u001b[1;32m   1139\u001b[0m     }\n",
      "\u001b[0;31mValueError\u001b[0m: Expected object or value"
     ]
    }
   ],
   "source": [
    "%%time\n",
    "\n",
    "df = pd.read_json('/home/dave/NLP/WashingtonPost-v4/data/TREC_Washington_Post_collection.v4.jl', lines=True)\n",
    "  \n"
   ]
  },
  {
   "cell_type": "code",
   "execution_count": null,
   "id": "2ff31eab",
   "metadata": {},
   "outputs": [],
   "source": [
    "#im ersten durchlauf gedropped\n",
    "df.drop('article_url', inplace=True, axis=1)\n",
    "df.drop('published_date', inplace=True, axis=1)\n",
    "df.drop('content', inplace=True, axis=1)\n",
    "df.drop('orig-id', inplace=True, axis=1)"
   ]
  },
  {
   "cell_type": "code",
   "execution_count": null,
   "id": "2f055849",
   "metadata": {},
   "outputs": [],
   "source": [
    "#im zweiten durchlauf gedropped\n",
    "df.drop('id', inplace=True, axis=1)\n",
    "df.drop('type', inplace=True, axis=1)\n",
    "df.drop('source', inplace=True, axis=1)\n"
   ]
  },
  {
   "cell_type": "code",
   "execution_count": null,
   "id": "ba906a7a-638c-415c-9030-6aa467b3b8c8",
   "metadata": {},
   "outputs": [],
   "source": []
  },
  {
   "cell_type": "code",
   "execution_count": null,
   "id": "3b43b4b0-66ac-430e-8c99-c7567c394463",
   "metadata": {},
   "outputs": [
    {
     "data": {
      "text/html": [
       "<div>\n",
       "<style scoped>\n",
       "    .dataframe tbody tr th:only-of-type {\n",
       "        vertical-align: middle;\n",
       "    }\n",
       "\n",
       "    .dataframe tbody tr th {\n",
       "        vertical-align: top;\n",
       "    }\n",
       "\n",
       "    .dataframe thead th {\n",
       "        text-align: right;\n",
       "    }\n",
       "</style>\n",
       "<table border=\"1\" class=\"dataframe\">\n",
       "  <thead>\n",
       "    <tr style=\"text-align: right;\">\n",
       "      <th></th>\n",
       "      <th>title</th>\n",
       "      <th>author</th>\n",
       "      <th>contents</th>\n",
       "    </tr>\n",
       "  </thead>\n",
       "  <tbody>\n",
       "    <tr>\n",
       "      <th>0</th>\n",
       "      <td>Danny Coale, Jarrett Boykin are a perfect 1-2 ...</td>\n",
       "      <td>Mark Giannotto</td>\n",
       "      <td>[{'content': 'Colleges', 'mime': 'text/plain',...</td>\n",
       "    </tr>\n",
       "    <tr>\n",
       "      <th>1</th>\n",
       "      <td>Bubbly planet Venus starts off New Year</td>\n",
       "      <td>Blaine P. Friedlander Jr.</td>\n",
       "      <td>[{'content': 'Local', 'mime': 'text/plain', 't...</td>\n",
       "    </tr>\n",
       "    <tr>\n",
       "      <th>2</th>\n",
       "      <td>Iowa caucuses: GOP presidential hopefuls makin...</td>\n",
       "      <td>Karen Tumulty</td>\n",
       "      <td>[{'content': 'Politics', 'mime': 'text/plain',...</td>\n",
       "    </tr>\n",
       "    <tr>\n",
       "      <th>3</th>\n",
       "      <td>John Wall, Wizards seek to pick up their spirits</td>\n",
       "      <td>Michael Lee</td>\n",
       "      <td>[{'content': 'Wizards/NBA', 'mime': 'text/plai...</td>\n",
       "    </tr>\n",
       "    <tr>\n",
       "      <th>4</th>\n",
       "      <td>Developer of Maryland housing office in Prince...</td>\n",
       "      <td>Ovetta Wiggins</td>\n",
       "      <td>[{'content': 'Local', 'mime': 'text/plain', 't...</td>\n",
       "    </tr>\n",
       "  </tbody>\n",
       "</table>\n",
       "</div>"
      ],
      "text/plain": [
       "                                               title  \\\n",
       "0  Danny Coale, Jarrett Boykin are a perfect 1-2 ...   \n",
       "1            Bubbly planet Venus starts off New Year   \n",
       "2  Iowa caucuses: GOP presidential hopefuls makin...   \n",
       "3   John Wall, Wizards seek to pick up their spirits   \n",
       "4  Developer of Maryland housing office in Prince...   \n",
       "\n",
       "                      author  \\\n",
       "0             Mark Giannotto   \n",
       "1  Blaine P. Friedlander Jr.   \n",
       "2              Karen Tumulty   \n",
       "3                Michael Lee   \n",
       "4             Ovetta Wiggins   \n",
       "\n",
       "                                            contents  \n",
       "0  [{'content': 'Colleges', 'mime': 'text/plain',...  \n",
       "1  [{'content': 'Local', 'mime': 'text/plain', 't...  \n",
       "2  [{'content': 'Politics', 'mime': 'text/plain',...  \n",
       "3  [{'content': 'Wizards/NBA', 'mime': 'text/plai...  \n",
       "4  [{'content': 'Local', 'mime': 'text/plain', 't...  "
      ]
     },
     "execution_count": 6,
     "metadata": {},
     "output_type": "execute_result"
    }
   ],
   "source": [
    "df.head()"
   ]
  },
  {
   "cell_type": "code",
   "execution_count": null,
   "id": "0bed873d",
   "metadata": {},
   "outputs": [],
   "source": []
  },
  {
   "cell_type": "markdown",
   "id": "44cd732b-13f5-42f0-a0a6-0ac5089734c6",
   "metadata": {},
   "source": [
    "# 2"
   ]
  },
  {
   "cell_type": "code",
   "execution_count": null,
   "id": "d76bfb15-4439-42a8-97a5-a12636cb555c",
   "metadata": {},
   "outputs": [],
   "source": [
    "def remove_duplicates(l):\n",
    "    return list(set(l))"
   ]
  },
  {
   "cell_type": "code",
   "execution_count": null,
   "id": "c5df8e3b-2d5e-4046-a907-fa494c68a847",
   "metadata": {},
   "outputs": [],
   "source": [
    "pattern_auth = \"\\s*\\w*\"\n",
    "pattern_at_empty = \"\" #(\\:*\\s*'')\n",
    "drop_list = []\n",
    "index = 0\n",
    "i = 0\n",
    "\n",
    "\n",
    "\n",
    "for auth in df[\"author\"]:\n",
    "    at = re.search(pattern_auth, str(auth))\n",
    "    #at2 = re.search(pattern_at_empty, str(auth))\n",
    "    if at or len(str(auth)) <= 4:\n",
    "        drop_list.append(i)\n",
    "      #print(i)\n",
    "    if auth == \"\":\n",
    "        drop_list.append(i)\n",
    "    i+= 1\n",
    "    \n",
    "### neu\n",
    "for tit in df[\"title\"]:\n",
    "  i = 0\n",
    "  if len(str(tit)) <= 4:\n",
    "    drop_list.append(i)\n",
    "  if auth == \"\":\n",
    "    drop_list.append(i)\n",
    "  i+= 1\n",
    "  \n"
   ]
  },
  {
   "cell_type": "code",
   "execution_count": null,
   "id": "e2874ff2-b285-4ea2-bbbe-0facd08965ca",
   "metadata": {},
   "outputs": [],
   "source": [
    "df = df.drop(remove_duplicates(drop_list))"
   ]
  },
  {
   "cell_type": "code",
   "execution_count": null,
   "id": "5137b002-f3f0-4b25-a1f2-affd9421f57e",
   "metadata": {},
   "outputs": [],
   "source": [
    "\n",
    "df = df.sort_index()\n",
    "df = df.reset_index(drop=True)\n"
   ]
  },
  {
   "cell_type": "code",
   "execution_count": null,
   "id": "5333128c-15a3-44c5-8521-b2ce53a07909",
   "metadata": {},
   "outputs": [],
   "source": []
  },
  {
   "cell_type": "code",
   "execution_count": null,
   "id": "b73ddcc4-079a-4b9f-8726-65c34a985640",
   "metadata": {},
   "outputs": [
    {
     "name": "stdout",
     "output_type": "stream",
     "text": [
      "CPU times: user 1min 20s, sys: 7.49 s, total: 1min 27s\n",
      "Wall time: 1min 28s\n"
     ]
    }
   ],
   "source": [
    "%%time\n",
    "le = int(len(df)/8)\n",
    "start = 0\n",
    "end = le\n",
    "i = 1 \n",
    "while i < 9:\n",
    "    df[start:end].to_pickle(\"/home/dave/NLP/WashingtonPost-v4/data/\"+str(i)+\".pkl\")\n",
    "    start = end\n",
    "    end = end + le\n",
    "    i += 1"
   ]
  },
  {
   "cell_type": "markdown",
   "id": "9c102a1e-6fa1-4334-a494-1c31d754fd53",
   "metadata": {},
   "source": [
    "# Kernel neu starten"
   ]
  },
  {
   "cell_type": "code",
   "execution_count": null,
   "id": "c68c7d2f-c61e-4ebe-8cd9-1be71c814d60",
   "metadata": {},
   "outputs": [],
   "source": [
    "import numpy as np\n",
    "import pandas as pd\n",
    "import fileinput\n",
    "import json\n",
    "from tqdm import tqdm\n",
    "tqdm.pandas()\n",
    "\n",
    "import pickle\n",
    "\n",
    "from tssplit import tssplit\n",
    "import re"
   ]
  },
  {
   "cell_type": "code",
   "execution_count": null,
   "id": "adf3f64d-93f8-45ec-894d-0bfd7c0ccacb",
   "metadata": {},
   "outputs": [
    {
     "name": "stdout",
     "output_type": "stream",
     "text": [
      "CPU times: user 17min 6s, sys: 21.1 s, total: 17min 27s\n",
      "Wall time: 17min 27s\n"
     ]
    }
   ],
   "source": [
    "%%time\n",
    "pattern_paragraph = \"\\'subtype\\': \\'paragraph\\'\"\n",
    "pattern_date = \"\\d{4}-\\d{2}-\\d{2}T\\d{2}:\\d{2}:\\d{2}Z\"\n",
    "\n",
    "\n",
    "\n",
    "for c in range(1,9):\n",
    "    \n",
    "    df = pd.read_pickle(\"/home/dave/NLP/WashingtonPost-v4/data/\"+str(c)+\".pkl\")\n",
    "    \n",
    "    df = df.reset_index(drop=True)\n",
    "    \n",
    "    meta_List = []\n",
    "    content_List = []\n",
    "\n",
    "    j= 0\n",
    "\n",
    "    for article in df[\"contents\"]:\n",
    "        temp_List_meta = []\n",
    "        temp_List_content = []\n",
    "        temp_List_content2 = []\n",
    "        temp_List_meta2 = []\n",
    "        temp_List_meta4 = []\n",
    "\n",
    "        for eintrag in article:\n",
    "            x = re.search(pattern_paragraph, str(eintrag))\n",
    "            if x:\n",
    "                temp_List_content = [eintrag]\n",
    "                for t in temp_List_content:\n",
    "                    val = str(t)\n",
    "                    val3 = tssplit(val,quote=\"'\", delimiter=\",\")\n",
    "                    t4 = val3[0][10:]\n",
    "                    temp_List_content2.append(t4)\n",
    "            else:\n",
    "                temp_List_meta = [eintrag]\n",
    "                for t in temp_List_meta:\n",
    "\n",
    "                    val2 = str(t)\n",
    "                    val6 = val2.split(\",\")\n",
    "                    t8 = val6[0][13:]\n",
    "                    temp_List_meta2.append(t8)\n",
    "        \n",
    "        \n",
    "        \n",
    "                \n",
    "        temp_List_meta4.append(temp_List_meta2[0])\n",
    "        temp_List_meta4.append(df[\"title\"][j])   ### neu\n",
    "        temp_List_meta4.append(df[\"author\"][j])\n",
    "\n",
    "        \n",
    "\n",
    "\n",
    "        for m in temp_List_meta2:                \n",
    "            d = re.search(pattern_date, str(m))          \n",
    "            if d:\n",
    "                temp_List_meta4.append(m)\n",
    "            else:\n",
    "                continue\n",
    "        \n",
    "        \n",
    "        #bool_kat = ist_in_kat(temp_List_meta2[0])## neu\n",
    "        #if bool_kat:\n",
    "        if len(temp_List_meta4) >= 3 and len(temp_List_meta4) <= 4 and len(temp_List_content2) > 3:\n",
    "            #if temp_List_meta4[0]\n",
    "            meta_List.append(temp_List_meta4)    \n",
    "            content_List.append(\"\".join(temp_List_content2))\n",
    "        j+=1        \n",
    "\n",
    "    dfMeta = pd.DataFrame(meta_List)\n",
    "    dfContent = pd.DataFrame(content_List)\n",
    "\n",
    "    dfContent = dfContent.set_axis([\"content\"], axis=1, inplace = False)\n",
    "\n",
    "    dfMeta = dfMeta.set_axis([\"Kategorie\",\"Titel\",\"Autor\",\"Datum\"], axis=1, inplace = False)\n",
    "\n",
    "    dfContent[\"id\"] = dfContent.index\n",
    "    dfMeta[\"id1\"] = dfMeta.index\n",
    "\n",
    "    df = pd.merge(dfMeta,dfContent, left_on=\"id1\", right_on=\"id\", how=\"left\").drop(\"id1\",axis=1)\n",
    "    \n",
    "    df.to_pickle(\"/home/dave/NLP/WashingtonPost-v4/data/\"+str(c)+\"_raw.pkl\")\n",
    "\n",
    "    c += 1"
   ]
  },
  {
   "cell_type": "markdown",
   "id": "f6b3e514-297c-49e1-9ed2-3bb445c5db61",
   "metadata": {},
   "source": [
    "# Kernel neu starten"
   ]
  },
  {
   "cell_type": "markdown",
   "id": "86ee4c0e-eb93-443c-93b8-a750aaa8fef1",
   "metadata": {},
   "source": [
    "## 5"
   ]
  },
  {
   "cell_type": "code",
   "execution_count": null,
   "id": "e24dba47-62b4-4d39-a947-53a5a64c4f41",
   "metadata": {},
   "outputs": [],
   "source": [
    "from tqdm import tqdm\n",
    "import numpy as np\n",
    "import pandas as pd\n",
    "tqdm.pandas()\n",
    "import fileinput\n",
    "import pickle\n",
    "import re\n",
    "import spacy\n",
    "from pandarallel import pandarallel"
   ]
  },
  {
   "cell_type": "markdown",
   "id": "207f0fa3-288a-404c-9bf2-350f28a2d9f9",
   "metadata": {},
   "source": [
    "!python -m spacy download en_core_web_md <br>\n",
    "!python -m spacy download en_core_web_lg"
   ]
  },
  {
   "cell_type": "code",
   "execution_count": null,
   "id": "2bd0dadb-361f-4f43-abf0-bd9e4ff00940",
   "metadata": {},
   "outputs": [
    {
     "name": "stdout",
     "output_type": "stream",
     "text": [
      "CPU times: user 38.4 s, sys: 5.88 s, total: 44.3 s\n",
      "Wall time: 44.3 s\n"
     ]
    }
   ],
   "source": [
    "%%time\n",
    "\n",
    "for c in range(1,9):\n",
    "    \n",
    "    df = pd.read_pickle(\"/home/dave/NLP/WashingtonPost-v4/data/\"+str(c)+\"_raw.pkl\")\n",
    "    \n",
    "    df = df.set_index('id')\n",
    "    \n",
    "    df.Kategorie = df.Kategorie.replace(\"\\\"$|\\'$\", \"\",regex=True)\n",
    "    df.Titel = df.Titel.replace(\"\\\"$|\\'$\", \"\",regex=True)\n",
    "    df.Datum = df.Datum.replace(\"\\\"$|\\'$\", \"\",regex=True) \n",
    "\n",
    "    df.Titel = df.Titel.replace(\"\\<.*?\\>\",\"\",regex=True)\n",
    "    df.content = df.content.replace(\"\\<.*?\\>\",\"\",regex=True)\n",
    "    \n",
    "    df.to_pickle(\"data/\"+str(c)+\"_clean.pkl\")"
   ]
  },
  {
   "cell_type": "markdown",
   "id": "bf288e6c",
   "metadata": {},
   "source": [
    "# Kernel neu starten"
   ]
  },
  {
   "cell_type": "code",
   "execution_count": null,
   "id": "a906735f",
   "metadata": {},
   "outputs": [],
   "source": [
    "from tqdm import tqdm\n",
    "import numpy as np\n",
    "import pandas as pd\n",
    "tqdm.pandas()\n",
    "import fileinput\n",
    "import pickle\n",
    "import re"
   ]
  },
  {
   "cell_type": "code",
   "execution_count": null,
   "id": "ff0cc5d1",
   "metadata": {},
   "outputs": [],
   "source": [
    "dfKat_behalten = pd.read_csv(\"/home/dave/NLP/WashingtonPost-v4/data/Kategorie_behalten.CSV\",header=None)\n",
    "\n",
    "Kat_behalten = list(dfKat_behalten[0])\n"
   ]
  },
  {
   "cell_type": "code",
   "execution_count": null,
   "id": "202c268e",
   "metadata": {},
   "outputs": [
    {
     "name": "stdout",
     "output_type": "stream",
     "text": [
      "CPU times: user 43.5 s, sys: 6.07 s, total: 49.6 s\n",
      "Wall time: 49.6 s\n"
     ]
    }
   ],
   "source": [
    "%%time\n",
    "temp_list = []\n",
    "\n",
    "for c in range(1,9):\n",
    "    \n",
    "    df = pd.read_pickle(\"/home/dave/NLP/WashingtonPost-v4/data/\"+str(c)+\"_clean.pkl\")\n",
    "    i=0\n",
    "    dfEnd = pd.DataFrame()\n",
    "    for a in df.iterrows():\n",
    "        if a[1][0] in Kat_behalten:\n",
    "            #print(\"isda\")\n",
    "            temp_list.append(a[1])\n",
    "        i+= 1\n",
    "    \n",
    "dfEnd = pd.DataFrame(temp_list)"
   ]
  },
  {
   "cell_type": "code",
   "execution_count": null,
   "id": "77c85cbe",
   "metadata": {},
   "outputs": [],
   "source": [
    "dfEnd = dfEnd.reset_index()\n",
    "dfEnd = dfEnd.drop(\"index\", axis=1)\n",
    "dfEnd = dfEnd.reset_index()\n",
    "dfEnd = dfEnd.set_index('index')  "
   ]
  },
  {
   "cell_type": "code",
   "execution_count": null,
   "id": "93bfd3f3",
   "metadata": {},
   "outputs": [
    {
     "name": "stdout",
     "output_type": "stream",
     "text": [
      "CPU times: user 624 ms, sys: 2.04 s, total: 2.66 s\n",
      "Wall time: 10.4 s\n"
     ]
    }
   ],
   "source": [
    "%%time\n",
    "anzahl = 4\n",
    "\n",
    "le = int(len(dfEnd)/anzahl)\n",
    "start = 0\n",
    "end = le\n",
    "i = 1 \n",
    "while i < (anzahl+1):\n",
    "    dfEnd[start:end].to_pickle(\"/home/dave/NLP/WashingtonPost-v4/data/rdy/\"+str(anzahl)+\"/\"+str(i)+\"_rdy.pkl\")\n",
    "    start = end\n",
    "    end = end + le\n",
    "    i += 1"
   ]
  },
  {
   "cell_type": "code",
   "execution_count": null,
   "id": "34148f17-de40-4408-bd1d-37fffc08c195",
   "metadata": {},
   "outputs": [],
   "source": [
    "dfEnd.to_pickle(\"data/rdy/all_rdy.pkl\")"
   ]
  },
  {
   "cell_type": "markdown",
   "id": "345a21ea",
   "metadata": {},
   "source": [
    "# Kernel neu starten"
   ]
  },
  {
   "cell_type": "code",
   "execution_count": null,
   "id": "e7de5c66",
   "metadata": {},
   "outputs": [
    {
     "name": "stdout",
     "output_type": "stream",
     "text": [
      "\n",
      "Usage:   \n",
      "  pip3 uninstall [options] <package> ...\n",
      "  pip3 uninstall [options] -r <requirements file> ...\n",
      "\n",
      "no such option: -Y\n"
     ]
    }
   ],
   "source": [
    "#!pip3 install torch"
   ]
  },
  {
   "cell_type": "code",
   "execution_count": 1,
   "id": "0bd506c4",
   "metadata": {},
   "outputs": [
    {
     "data": {
      "text/plain": [
       "False"
      ]
     },
     "execution_count": 1,
     "metadata": {},
     "output_type": "execute_result"
    }
   ],
   "source": [
    "from tqdm import tqdm\n",
    "import numpy as np\n",
    "import pandas as pd\n",
    "tqdm.pandas()\n",
    "import fileinput\n",
    "import pickle\n",
    "import re\n",
    "import spacy\n",
    "import glob\n",
    "from pandarallel import pandarallel\n",
    "\n",
    "##cuda\n",
    "#device = torch.device(\"cuda\" if torch.cuda.is_available() else \"cpu\")\n",
    "spacy.prefer_gpu() "
   ]
  },
  {
   "cell_type": "code",
   "execution_count": 2,
   "id": "52504d27-3c29-433b-99a3-92fb6fd66bf1",
   "metadata": {},
   "outputs": [
    {
     "name": "stdout",
     "output_type": "stream",
     "text": [
      "INFO: Pandarallel will run on 22 workers.\n",
      "INFO: Pandarallel will use Memory file system to transfer data between the main process and workers.\n"
     ]
    }
   ],
   "source": [
    "nlp = spacy.load(\"en_core_web_lg\")\n",
    "pandarallel.initialize(progress_bar=False)"
   ]
  },
  {
   "cell_type": "code",
   "execution_count": 3,
   "id": "909d1b9f-db7d-4d94-8500-52ca9386568d",
   "metadata": {},
   "outputs": [],
   "source": [
    "all_stopwords = nlp.Defaults.stop_words\n",
    "def remove_stopwords_from_list(list_in):\n",
    "    return [a for a in list_in if a not in all_stopwords]"
   ]
  },
  {
   "cell_type": "code",
   "execution_count": 4,
   "id": "7f85f830",
   "metadata": {},
   "outputs": [
    {
     "name": "stdout",
     "output_type": "stream",
     "text": [
      "reading from: /home/dave/NLP/WashingtonPost-v4/data/rdy/16/8_rdy.pkl\n",
      "saved file as 1_nlp.pkl\n",
      "reading from: /home/dave/NLP/WashingtonPost-v4/data/rdy/16/11_rdy.pkl\n",
      "saved file as 2_nlp.pkl\n",
      "reading from: /home/dave/NLP/WashingtonPost-v4/data/rdy/16/2_rdy.pkl\n"
     ]
    },
    {
     "ename": "KeyboardInterrupt",
     "evalue": "",
     "output_type": "error",
     "traceback": [
      "\u001b[0;31m---------------------------------------------------------------------------\u001b[0m",
      "\u001b[0;31mKeyboardInterrupt\u001b[0m                         Traceback (most recent call last)",
      "\u001b[1;32m/home/dave/NLP/WashingtonPost-v4/pipline_all.ipynb Cell 36'\u001b[0m in \u001b[0;36m<cell line: 2>\u001b[0;34m()\u001b[0m\n\u001b[1;32m      <a href='vscode-notebook-cell:/home/dave/NLP/WashingtonPost-v4/pipline_all.ipynb#ch0000042?line=3'>4</a>\u001b[0m df \u001b[39m=\u001b[39m pd\u001b[39m.\u001b[39mread_pickle(files)\n\u001b[1;32m      <a href='vscode-notebook-cell:/home/dave/NLP/WashingtonPost-v4/pipline_all.ipynb#ch0000042?line=4'>5</a>\u001b[0m filename\u001b[39m+\u001b[39m\u001b[39m=\u001b[39m\u001b[39m1\u001b[39m\n\u001b[0;32m----> <a href='vscode-notebook-cell:/home/dave/NLP/WashingtonPost-v4/pipline_all.ipynb#ch0000042?line=5'>6</a>\u001b[0m df[\u001b[39m\"\u001b[39m\u001b[39mtokens\u001b[39m\u001b[39m\"\u001b[39m] \u001b[39m=\u001b[39m df\u001b[39m.\u001b[39;49mparallel_apply(\u001b[39mlambda\u001b[39;49;00m row: [a\u001b[39m.\u001b[39;49mtext \u001b[39mfor\u001b[39;49;00m a \u001b[39min\u001b[39;49;00m \u001b[39mlist\u001b[39;49m(nlp(\u001b[39mstr\u001b[39;49m(row[\u001b[39m\"\u001b[39;49m\u001b[39mcontent\u001b[39;49m\u001b[39m\"\u001b[39;49m])))], axis\u001b[39m=\u001b[39;49m\u001b[39m1\u001b[39;49m)\n\u001b[1;32m      <a href='vscode-notebook-cell:/home/dave/NLP/WashingtonPost-v4/pipline_all.ipynb#ch0000042?line=6'>7</a>\u001b[0m df[\u001b[39m\"\u001b[39m\u001b[39mno_stop\u001b[39m\u001b[39m\"\u001b[39m] \u001b[39m=\u001b[39m df\u001b[39m.\u001b[39mparallel_apply(\u001b[39mlambda\u001b[39;00m row: remove_stopwords_from_list(row[\u001b[39m\"\u001b[39m\u001b[39mtokens\u001b[39m\u001b[39m\"\u001b[39m]), axis\u001b[39m=\u001b[39m\u001b[39m1\u001b[39m)\n\u001b[1;32m      <a href='vscode-notebook-cell:/home/dave/NLP/WashingtonPost-v4/pipline_all.ipynb#ch0000042?line=7'>8</a>\u001b[0m df[\u001b[39m\"\u001b[39m\u001b[39mlemma\u001b[39m\u001b[39m\"\u001b[39m] \u001b[39m=\u001b[39m df\u001b[39m.\u001b[39mparallel_apply(\u001b[39mlambda\u001b[39;00m row: [t\u001b[39m.\u001b[39mlemma_ \u001b[39mfor\u001b[39;00m t \u001b[39min\u001b[39;00m nlp(\u001b[39mstr\u001b[39m(row[\u001b[39m\"\u001b[39m\u001b[39mno_stop\u001b[39m\u001b[39m\"\u001b[39m]))], axis\u001b[39m=\u001b[39m\u001b[39m1\u001b[39m)\n",
      "File \u001b[0;32m~/anaconda3/lib/python3.9/site-packages/pandarallel/core.py:307\u001b[0m, in \u001b[0;36mparallelize_with_memory_file_system.<locals>.closure\u001b[0;34m(data, user_defined_function, *user_defined_function_args, **user_defined_function_kwargs)\u001b[0m\n\u001b[1;32m    299\u001b[0m generation \u001b[39m=\u001b[39m count()\n\u001b[1;32m    301\u001b[0m \u001b[39mwhile\u001b[39;00m \u001b[39many\u001b[39m(\n\u001b[1;32m    302\u001b[0m     (\n\u001b[1;32m    303\u001b[0m         worker_status \u001b[39m==\u001b[39m WorkerStatus\u001b[39m.\u001b[39mRunning\n\u001b[1;32m    304\u001b[0m         \u001b[39mfor\u001b[39;00m worker_status \u001b[39min\u001b[39;00m workers_status\n\u001b[1;32m    305\u001b[0m     )\n\u001b[1;32m    306\u001b[0m ):\n\u001b[0;32m--> 307\u001b[0m     message: Tuple[\u001b[39mint\u001b[39m, WorkerStatus, Any] \u001b[39m=\u001b[39m master_workers_queue\u001b[39m.\u001b[39;49mget()\n\u001b[1;32m    308\u001b[0m     worker_index, worker_status, payload \u001b[39m=\u001b[39m message\n\u001b[1;32m    309\u001b[0m     workers_status[worker_index] \u001b[39m=\u001b[39m worker_status\n",
      "File \u001b[0;32m<string>:2\u001b[0m, in \u001b[0;36mget\u001b[0;34m(self, *args, **kwds)\u001b[0m\n",
      "File \u001b[0;32m~/anaconda3/lib/python3.9/multiprocessing/managers.py:810\u001b[0m, in \u001b[0;36mBaseProxy._callmethod\u001b[0;34m(self, methodname, args, kwds)\u001b[0m\n\u001b[1;32m    807\u001b[0m     conn \u001b[39m=\u001b[39m \u001b[39mself\u001b[39m\u001b[39m.\u001b[39m_tls\u001b[39m.\u001b[39mconnection\n\u001b[1;32m    809\u001b[0m conn\u001b[39m.\u001b[39msend((\u001b[39mself\u001b[39m\u001b[39m.\u001b[39m_id, methodname, args, kwds))\n\u001b[0;32m--> 810\u001b[0m kind, result \u001b[39m=\u001b[39m conn\u001b[39m.\u001b[39;49mrecv()\n\u001b[1;32m    812\u001b[0m \u001b[39mif\u001b[39;00m kind \u001b[39m==\u001b[39m \u001b[39m'\u001b[39m\u001b[39m#RETURN\u001b[39m\u001b[39m'\u001b[39m:\n\u001b[1;32m    813\u001b[0m     \u001b[39mreturn\u001b[39;00m result\n",
      "File \u001b[0;32m~/anaconda3/lib/python3.9/multiprocessing/connection.py:255\u001b[0m, in \u001b[0;36m_ConnectionBase.recv\u001b[0;34m(self)\u001b[0m\n\u001b[1;32m    253\u001b[0m \u001b[39mself\u001b[39m\u001b[39m.\u001b[39m_check_closed()\n\u001b[1;32m    254\u001b[0m \u001b[39mself\u001b[39m\u001b[39m.\u001b[39m_check_readable()\n\u001b[0;32m--> 255\u001b[0m buf \u001b[39m=\u001b[39m \u001b[39mself\u001b[39;49m\u001b[39m.\u001b[39;49m_recv_bytes()\n\u001b[1;32m    256\u001b[0m \u001b[39mreturn\u001b[39;00m _ForkingPickler\u001b[39m.\u001b[39mloads(buf\u001b[39m.\u001b[39mgetbuffer())\n",
      "File \u001b[0;32m~/anaconda3/lib/python3.9/multiprocessing/connection.py:419\u001b[0m, in \u001b[0;36mConnection._recv_bytes\u001b[0;34m(self, maxsize)\u001b[0m\n\u001b[1;32m    418\u001b[0m \u001b[39mdef\u001b[39;00m \u001b[39m_recv_bytes\u001b[39m(\u001b[39mself\u001b[39m, maxsize\u001b[39m=\u001b[39m\u001b[39mNone\u001b[39;00m):\n\u001b[0;32m--> 419\u001b[0m     buf \u001b[39m=\u001b[39m \u001b[39mself\u001b[39;49m\u001b[39m.\u001b[39;49m_recv(\u001b[39m4\u001b[39;49m)\n\u001b[1;32m    420\u001b[0m     size, \u001b[39m=\u001b[39m struct\u001b[39m.\u001b[39munpack(\u001b[39m\"\u001b[39m\u001b[39m!i\u001b[39m\u001b[39m\"\u001b[39m, buf\u001b[39m.\u001b[39mgetvalue())\n\u001b[1;32m    421\u001b[0m     \u001b[39mif\u001b[39;00m size \u001b[39m==\u001b[39m \u001b[39m-\u001b[39m\u001b[39m1\u001b[39m:\n",
      "File \u001b[0;32m~/anaconda3/lib/python3.9/multiprocessing/connection.py:384\u001b[0m, in \u001b[0;36mConnection._recv\u001b[0;34m(self, size, read)\u001b[0m\n\u001b[1;32m    382\u001b[0m remaining \u001b[39m=\u001b[39m size\n\u001b[1;32m    383\u001b[0m \u001b[39mwhile\u001b[39;00m remaining \u001b[39m>\u001b[39m \u001b[39m0\u001b[39m:\n\u001b[0;32m--> 384\u001b[0m     chunk \u001b[39m=\u001b[39m read(handle, remaining)\n\u001b[1;32m    385\u001b[0m     n \u001b[39m=\u001b[39m \u001b[39mlen\u001b[39m(chunk)\n\u001b[1;32m    386\u001b[0m     \u001b[39mif\u001b[39;00m n \u001b[39m==\u001b[39m \u001b[39m0\u001b[39m:\n",
      "\u001b[0;31mKeyboardInterrupt\u001b[0m: "
     ]
    }
   ],
   "source": [
    "filename=0\n",
    "for files in glob.glob(\"/home/dave/NLP/WashingtonPost-v4/data/rdy/16/*.pkl\"):\n",
    "    print(\"reading from: \"+ files)\n",
    "    df = pd.read_pickle(files)\n",
    "    filename+=1\n",
    "    df[\"tokens\"] = df.parallel_apply(lambda row: [a.text for a in list(nlp(str(row[\"content\"])))], axis=1)\n",
    "    df[\"no_stop\"] = df.parallel_apply(lambda row: remove_stopwords_from_list(row[\"tokens\"]), axis=1)\n",
    "    df[\"lemma\"] = df.parallel_apply(lambda row: [t.lemma_ for t in nlp(str(row[\"no_stop\"]))], axis=1)\n",
    "    df.to_pickle(\"/home/dave/NLP/WashingtonPost-v4/data/nlp/{}_nlp.pkl\".format(filename))\n",
    "    print(\"saved file as {}_nlp.pkl\".format(filename))\n",
    "    \n"
   ]
  },
  {
   "cell_type": "code",
   "execution_count": null,
   "id": "2dd4003b",
   "metadata": {},
   "outputs": [
    {
     "data": {
      "text/html": [
       "<div>\n",
       "<style scoped>\n",
       "    .dataframe tbody tr th:only-of-type {\n",
       "        vertical-align: middle;\n",
       "    }\n",
       "\n",
       "    .dataframe tbody tr th {\n",
       "        vertical-align: top;\n",
       "    }\n",
       "\n",
       "    .dataframe thead th {\n",
       "        text-align: right;\n",
       "    }\n",
       "</style>\n",
       "<table border=\"1\" class=\"dataframe\">\n",
       "  <thead>\n",
       "    <tr style=\"text-align: right;\">\n",
       "      <th></th>\n",
       "      <th>Kategorie</th>\n",
       "      <th>Titel</th>\n",
       "      <th>Autor</th>\n",
       "      <th>Datum</th>\n",
       "      <th>content</th>\n",
       "      <th>tokens</th>\n",
       "      <th>no_stop</th>\n",
       "    </tr>\n",
       "    <tr>\n",
       "      <th>index</th>\n",
       "      <th></th>\n",
       "      <th></th>\n",
       "      <th></th>\n",
       "      <th></th>\n",
       "      <th></th>\n",
       "      <th></th>\n",
       "      <th></th>\n",
       "    </tr>\n",
       "  </thead>\n",
       "  <tbody>\n",
       "    <tr>\n",
       "      <th>28712</th>\n",
       "      <td>Maryland Politics</td>\n",
       "      <td>Montgomery County asks U.S. to reopen shuttere...</td>\n",
       "      <td>Bill Turque</td>\n",
       "      <td>2013-10-14T22:42:55Z</td>\n",
       "      <td>Montgomery County has asked the U.S. Departmen...</td>\n",
       "      <td>[Montgomery, County, has, asked, the, U.S., De...</td>\n",
       "      <td>[Montgomery, County, asked, U.S., Department, ...</td>\n",
       "    </tr>\n",
       "    <tr>\n",
       "      <th>28713</th>\n",
       "      <td>Local</td>\n",
       "      <td>How many birds die from hitting D.C. buildings...</td>\n",
       "      <td>John Kelly</td>\n",
       "      <td>2013-10-14T22:48:00Z</td>\n",
       "      <td>The birds are still warm to the touch when Nic...</td>\n",
       "      <td>[The, birds, are, still, warm, to, the, touch,...</td>\n",
       "      <td>[The, birds, warm, touch, Nick, Lund, lifts, c...</td>\n",
       "    </tr>\n",
       "    <tr>\n",
       "      <th>28714</th>\n",
       "      <td>The Fed Page</td>\n",
       "      <td>Government shutdown generates stories of miser...</td>\n",
       "      <td>Joe Davidson</td>\n",
       "      <td>2013-10-14T22:49:21Z</td>\n",
       "      <td>As Congress and the White House try to find th...</td>\n",
       "      <td>[As, Congress, and, the, White, House, try, to...</td>\n",
       "      <td>[As, Congress, White, House, try, find, way, b...</td>\n",
       "    </tr>\n",
       "    <tr>\n",
       "      <th>28715</th>\n",
       "      <td>National Security</td>\n",
       "      <td>NSA collects millions of e-mail address books ...</td>\n",
       "      <td>Barton Gellman; Ashkan Soltani</td>\n",
       "      <td>2013-10-14T22:53:00Z</td>\n",
       "      <td>The National Security Agency is harvesting hun...</td>\n",
       "      <td>[The, National, Security, Agency, is, harvesti...</td>\n",
       "      <td>[The, National, Security, Agency, harvesting, ...</td>\n",
       "    </tr>\n",
       "    <tr>\n",
       "      <th>28716</th>\n",
       "      <td>Politics</td>\n",
       "      <td>Self-cast group of Senate moderates wants to m...</td>\n",
       "      <td>David A. Fahrenthold; and Rosalind S. Helderman</td>\n",
       "      <td>2013-10-14T23:23:39Z</td>\n",
       "      <td>In the past few days, a bipartisan group of 12...</td>\n",
       "      <td>[In, the, past, few, days, ,, a, bipartisan, g...</td>\n",
       "      <td>[In, past, days, ,, bipartisan, group, 12, sen...</td>\n",
       "    </tr>\n",
       "    <tr>\n",
       "      <th>...</th>\n",
       "      <td>...</td>\n",
       "      <td>...</td>\n",
       "      <td>...</td>\n",
       "      <td>...</td>\n",
       "      <td>...</td>\n",
       "      <td>...</td>\n",
       "      <td>...</td>\n",
       "    </tr>\n",
       "    <tr>\n",
       "      <th>43063</th>\n",
       "      <td>Capital Business</td>\n",
       "      <td>Editor’s Note: The key to success? Have more c...</td>\n",
       "      <td>Dan Beyers</td>\n",
       "      <td>2014-09-07T19:29:22Z</td>\n",
       "      <td>Recently, I found myself in the halls of the B...</td>\n",
       "      <td>[Recently, ,, I, found, myself, in, the, halls...</td>\n",
       "      <td>[Recently, ,, I, found, halls, Bethesda, North...</td>\n",
       "    </tr>\n",
       "    <tr>\n",
       "      <th>43064</th>\n",
       "      <td>Capital Business</td>\n",
       "      <td>Capital Buzz: Entrepreneurial brothers create ...</td>\n",
       "      <td>Thomas Heath</td>\n",
       "      <td>2014-09-07T19:30:45Z</td>\n",
       "      <td>Two Washington entrepreneurs with a history of...</td>\n",
       "      <td>[Two, Washington, entrepreneurs, with, a, hist...</td>\n",
       "      <td>[Two, Washington, entrepreneurs, history, buil...</td>\n",
       "    </tr>\n",
       "    <tr>\n",
       "      <th>43065</th>\n",
       "      <td>Capital Business</td>\n",
       "      <td>CoStar: Retail activity is strong in D.C., but...</td>\n",
       "      <td>Kirstie Boatright</td>\n",
       "      <td>2014-09-07T19:31:32Z</td>\n",
       "      <td>Although popular retailers such as Kate Spade ...</td>\n",
       "      <td>[Although, popular, retailers, such, as, Kate,...</td>\n",
       "      <td>[Although, popular, retailers, Kate, Spade, Tr...</td>\n",
       "    </tr>\n",
       "    <tr>\n",
       "      <th>43066</th>\n",
       "      <td>Capital Business</td>\n",
       "      <td>The Download: Who is fit to pitch? Meet 20 sta...</td>\n",
       "      <td>Steven Overly</td>\n",
       "      <td>2014-09-07T19:32:16Z</td>\n",
       "      <td>The Mid-Atlantic Venture Association has chose...</td>\n",
       "      <td>[The, Mid, -, Atlantic, Venture, Association, ...</td>\n",
       "      <td>[The, Mid, -, Atlantic, Venture, Association, ...</td>\n",
       "    </tr>\n",
       "    <tr>\n",
       "      <th>43067</th>\n",
       "      <td>Capital Business</td>\n",
       "      <td>Budget cuts are booming business for this Wash...</td>\n",
       "      <td>Amrita Jayakumar</td>\n",
       "      <td>2014-09-07T19:32:58Z</td>\n",
       "      <td>At a time when most contractors’ top lines are...</td>\n",
       "      <td>[At, a, time, when, most, contractors, ’, top,...</td>\n",
       "      <td>[At, time, contractors, ’, lines, squeezed, fe...</td>\n",
       "    </tr>\n",
       "  </tbody>\n",
       "</table>\n",
       "<p>14356 rows × 7 columns</p>\n",
       "</div>"
      ],
      "text/plain": [
       "               Kategorie                                              Titel  \\\n",
       "index                                                                         \n",
       "28712  Maryland Politics  Montgomery County asks U.S. to reopen shuttere...   \n",
       "28713              Local  How many birds die from hitting D.C. buildings...   \n",
       "28714       The Fed Page  Government shutdown generates stories of miser...   \n",
       "28715  National Security  NSA collects millions of e-mail address books ...   \n",
       "28716           Politics  Self-cast group of Senate moderates wants to m...   \n",
       "...                  ...                                                ...   \n",
       "43063   Capital Business  Editor’s Note: The key to success? Have more c...   \n",
       "43064   Capital Business  Capital Buzz: Entrepreneurial brothers create ...   \n",
       "43065   Capital Business  CoStar: Retail activity is strong in D.C., but...   \n",
       "43066   Capital Business  The Download: Who is fit to pitch? Meet 20 sta...   \n",
       "43067   Capital Business  Budget cuts are booming business for this Wash...   \n",
       "\n",
       "                                                 Autor                 Datum  \\\n",
       "index                                                                          \n",
       "28712                                      Bill Turque  2013-10-14T22:42:55Z   \n",
       "28713                                       John Kelly  2013-10-14T22:48:00Z   \n",
       "28714                                     Joe Davidson  2013-10-14T22:49:21Z   \n",
       "28715                   Barton Gellman; Ashkan Soltani  2013-10-14T22:53:00Z   \n",
       "28716  David A. Fahrenthold; and Rosalind S. Helderman  2013-10-14T23:23:39Z   \n",
       "...                                                ...                   ...   \n",
       "43063                                       Dan Beyers  2014-09-07T19:29:22Z   \n",
       "43064                                     Thomas Heath  2014-09-07T19:30:45Z   \n",
       "43065                                Kirstie Boatright  2014-09-07T19:31:32Z   \n",
       "43066                                    Steven Overly  2014-09-07T19:32:16Z   \n",
       "43067                                 Amrita Jayakumar  2014-09-07T19:32:58Z   \n",
       "\n",
       "                                                 content  \\\n",
       "index                                                      \n",
       "28712  Montgomery County has asked the U.S. Departmen...   \n",
       "28713  The birds are still warm to the touch when Nic...   \n",
       "28714  As Congress and the White House try to find th...   \n",
       "28715  The National Security Agency is harvesting hun...   \n",
       "28716  In the past few days, a bipartisan group of 12...   \n",
       "...                                                  ...   \n",
       "43063  Recently, I found myself in the halls of the B...   \n",
       "43064  Two Washington entrepreneurs with a history of...   \n",
       "43065  Although popular retailers such as Kate Spade ...   \n",
       "43066  The Mid-Atlantic Venture Association has chose...   \n",
       "43067  At a time when most contractors’ top lines are...   \n",
       "\n",
       "                                                  tokens  \\\n",
       "index                                                      \n",
       "28712  [Montgomery, County, has, asked, the, U.S., De...   \n",
       "28713  [The, birds, are, still, warm, to, the, touch,...   \n",
       "28714  [As, Congress, and, the, White, House, try, to...   \n",
       "28715  [The, National, Security, Agency, is, harvesti...   \n",
       "28716  [In, the, past, few, days, ,, a, bipartisan, g...   \n",
       "...                                                  ...   \n",
       "43063  [Recently, ,, I, found, myself, in, the, halls...   \n",
       "43064  [Two, Washington, entrepreneurs, with, a, hist...   \n",
       "43065  [Although, popular, retailers, such, as, Kate,...   \n",
       "43066  [The, Mid, -, Atlantic, Venture, Association, ...   \n",
       "43067  [At, a, time, when, most, contractors, ’, top,...   \n",
       "\n",
       "                                                 no_stop  \n",
       "index                                                     \n",
       "28712  [Montgomery, County, asked, U.S., Department, ...  \n",
       "28713  [The, birds, warm, touch, Nick, Lund, lifts, c...  \n",
       "28714  [As, Congress, White, House, try, find, way, b...  \n",
       "28715  [The, National, Security, Agency, harvesting, ...  \n",
       "28716  [In, past, days, ,, bipartisan, group, 12, sen...  \n",
       "...                                                  ...  \n",
       "43063  [Recently, ,, I, found, halls, Bethesda, North...  \n",
       "43064  [Two, Washington, entrepreneurs, history, buil...  \n",
       "43065  [Although, popular, retailers, Kate, Spade, Tr...  \n",
       "43066  [The, Mid, -, Atlantic, Venture, Association, ...  \n",
       "43067  [At, time, contractors, ’, lines, squeezed, fe...  \n",
       "\n",
       "[14356 rows x 7 columns]"
      ]
     },
     "execution_count": 6,
     "metadata": {},
     "output_type": "execute_result"
    }
   ],
   "source": [
    "df"
   ]
  },
  {
   "cell_type": "code",
   "execution_count": null,
   "id": "1e8feff2",
   "metadata": {},
   "outputs": [],
   "source": [
    "df = pd.read_pickle(\"/home/dave/NLP/WashingtonPost-v4/data/rdy/16/2_basic_NLP.pkl\")"
   ]
  }
 ],
 "metadata": {
  "kernelspec": {
   "display_name": "Python 3 (ipykernel)",
   "language": "python",
   "name": "python3"
  },
  "language_info": {
   "codemirror_mode": {
    "name": "ipython",
    "version": 3
   },
   "file_extension": ".py",
   "mimetype": "text/x-python",
   "name": "python",
   "nbconvert_exporter": "python",
   "pygments_lexer": "ipython3",
   "version": "3.9.12"
  },
  "vscode": {
   "interpreter": {
    "hash": "632924e73c662d7eb2092878768cabae4c1618472e5b2e0bb7284b4110ee9d56"
   }
  }
 },
 "nbformat": 4,
 "nbformat_minor": 5
}
