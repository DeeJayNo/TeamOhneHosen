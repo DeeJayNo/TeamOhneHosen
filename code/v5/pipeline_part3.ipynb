{
 "cells": [
  {
   "cell_type": "code",
   "execution_count": 1,
   "metadata": {},
   "outputs": [],
   "source": [
    "from tqdm import tqdm\n",
    "import numpy as np\n",
    "import pandas as pd\n",
    "tqdm.pandas()\n",
    "import fileinput\n",
    "import json\n",
    "\n",
    "import pickle"
   ]
  },
  {
   "cell_type": "code",
   "execution_count": 2,
   "metadata": {},
   "outputs": [],
   "source": [
    "df = pd.read_pickle(\"p:/uni/nlp/WashingtonPost_v4/data/v5/12.pkl\")"
   ]
  },
  {
   "cell_type": "code",
   "execution_count": 3,
   "metadata": {},
   "outputs": [],
   "source": [
    "dfSorted = df.sort_index()"
   ]
  },
  {
   "cell_type": "code",
   "execution_count": 14,
   "metadata": {},
   "outputs": [],
   "source": [
    "dfSorted = dfSorted.reset_index(drop=True)\n",
    "dfSorted.to_pickle(\"p:/uni/nlp/WashingtonPost_v4/data/v5/12_Sorted.pkl\")"
   ]
  },
  {
   "cell_type": "code",
   "execution_count": 15,
   "metadata": {},
   "outputs": [],
   "source": [
    "all_list = []\n",
    "temp_list = []\n",
    "\n",
    "for z in dfSorted[\"contents\"]:\n",
    "    i = 0\n",
    "    temp_list = []\n",
    "    for e in z:\n",
    "        temp_list.append(e)\n",
    "        i+= 1\n",
    "    all_list.append(temp_list)\n",
    "    \n",
    "    \n",
    "dfSplit = pd.DataFrame(all_list)"
   ]
  },
  {
   "cell_type": "code",
   "execution_count": 16,
   "metadata": {},
   "outputs": [],
   "source": [
    "dfSplit.to_pickle(\"p:/uni/nlp/WashingtonPost_v4/data/v4/12_Split.pkl\")"
   ]
  },
  {
   "cell_type": "code",
   "execution_count": null,
   "metadata": {},
   "outputs": [],
   "source": []
  }
 ],
 "metadata": {
  "kernelspec": {
   "display_name": "Python 3.10.1 64-bit",
   "language": "python",
   "name": "python3"
  },
  "language_info": {
   "codemirror_mode": {
    "name": "ipython",
    "version": 3
   },
   "file_extension": ".py",
   "mimetype": "text/x-python",
   "name": "python",
   "nbconvert_exporter": "python",
   "pygments_lexer": "ipython3",
   "version": "3.10.1"
  },
  "orig_nbformat": 4,
  "vscode": {
   "interpreter": {
    "hash": "96ea463da8b265c951058de84b9645eca36b660a1a779c7b0eff4941594f7f98"
   }
  }
 },
 "nbformat": 4,
 "nbformat_minor": 2
}
