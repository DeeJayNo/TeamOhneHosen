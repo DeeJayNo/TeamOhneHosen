{
 "cells": [
  {
   "cell_type": "code",
   "execution_count": 25,
   "metadata": {},
   "outputs": [],
   "source": [
    "from tqdm import tqdm\n",
    "import numpy as np\n",
    "import pandas as pd\n",
    "tqdm.pandas()\n",
    "import fileinput\n",
    "import json\n",
    "\n",
    "import pickle\n",
    "\n",
    "from tssplit import tssplit\n",
    "import re"
   ]
  },
  {
   "cell_type": "code",
   "execution_count": 26,
   "metadata": {},
   "outputs": [],
   "source": [
    "def remove_duplicates(l):\n",
    "    return list(set(l))\n"
   ]
  },
  {
   "cell_type": "code",
   "execution_count": 27,
   "metadata": {},
   "outputs": [],
   "source": [
    "df = pd.read_pickle(\"p:/uni/nlp/WashingtonPost_v4/data/v5/12_Sorted.pkl\")"
   ]
  },
  {
   "cell_type": "code",
   "execution_count": 28,
   "metadata": {},
   "outputs": [],
   "source": [
    "pattern_auth = \"—\\s*\\w*\"\n",
    "pattern_at_empty = \"\" #(\\:*\\s*'')\n",
    "drop_list = []\n",
    "index = 0\n",
    "i = 0\n",
    "\n",
    "\n",
    "\n",
    "for auth in df[\"author\"]:\n",
    "    at = re.search(pattern_auth, str(auth))\n",
    "    #at2 = re.search(pattern_at_empty, str(auth))\n",
    "    if at or len(str(auth)) <= 4:\n",
    "      drop_list.append(i)\n",
    "      #print(i)\n",
    "    if auth == \"\":\n",
    "      drop_list.append(i)\n",
    "    i+= 1"
   ]
  },
  {
   "cell_type": "code",
   "execution_count": 29,
   "metadata": {},
   "outputs": [],
   "source": [
    "df = df.drop(remove_duplicates(drop_list))"
   ]
  },
  {
   "cell_type": "code",
   "execution_count": 30,
   "metadata": {},
   "outputs": [],
   "source": [
    "\n",
    "df = df.sort_index()\n",
    "df = df.reset_index(drop=True)\n"
   ]
  },
  {
   "cell_type": "code",
   "execution_count": 31,
   "metadata": {},
   "outputs": [],
   "source": [
    "pattern_paragraph = \"\\'subtype\\': \\'paragraph\\'\"\n",
    "pattern_date = \"\\d{4}-\\d{2}-\\d{2}T\\d{2}:\\d{2}:\\d{2}Z\"\n",
    "temp_List_meta = []\n",
    "temp_List_meta2 = []\n",
    "\n",
    "temp_List_meta4 = []\n",
    "temp_List_content = []\n",
    "temp_List_content2 = []\n",
    "\n",
    "meta_List = []\n",
    "content_List = []\n",
    "\n",
    "j= 0\n",
    "\n",
    "for article in df[\"contents\"]:\n",
    "    temp_List_meta = []\n",
    "    temp_List_content = []\n",
    "    temp_List_content2 = []\n",
    "    temp_List_meta2 = []\n",
    "    temp_List_meta4 = []\n",
    "    \n",
    "    for eintrag in article:\n",
    "        x = re.search(pattern_paragraph, str(eintrag))\n",
    "        if x:\n",
    "            temp_List_content = [eintrag]\n",
    "            for t in temp_List_content:\n",
    "                val = str(t)\n",
    "                val3 = tssplit(val,quote=\"'\", delimiter=\",\")\n",
    "                t4 = val3[0][10:]\n",
    "                temp_List_content2.append(t4)\n",
    "        else:\n",
    "            temp_List_meta = [eintrag]\n",
    "            for t in temp_List_meta:\n",
    "            \n",
    "                val2 = str(t)\n",
    "                val6 = val2.split(\",\")\n",
    "                t8 = val6[0][13:]\n",
    "                temp_List_meta2.append(t8)\n",
    "    try:\n",
    "        temp_List_meta4.append(temp_List_meta2[0])\n",
    "        temp_List_meta4.append(temp_List_meta2[1])\n",
    "    except:\n",
    "        continue \n",
    "    \n",
    "    temp_List_meta4.append(df[\"author\"][j])\n",
    "                   \n",
    "    for m in temp_List_meta2:                \n",
    "        d = re.search(pattern_date, str(m))          \n",
    "        if d:\n",
    "            temp_List_meta4.append(m)\n",
    "        else:\n",
    "            continue\n",
    "    \n",
    "    if len(temp_List_meta4) >= 3 and len(temp_List_meta4) <= 4 and len(temp_List_content2) > 3:\n",
    "        #if temp_List_meta4[0]\n",
    "        meta_List.append(temp_List_meta4)    \n",
    "        content_List.append(\"\".join(temp_List_content2))\n",
    "    \n",
    "    j+=1        \n"
   ]
  },
  {
   "cell_type": "code",
   "execution_count": 32,
   "metadata": {},
   "outputs": [],
   "source": [
    "dfMeta = pd.DataFrame(meta_List)\n",
    "dfContent = pd.DataFrame(content_List)"
   ]
  },
  {
   "cell_type": "code",
   "execution_count": 33,
   "metadata": {},
   "outputs": [],
   "source": [
    "dfContent = dfContent.set_axis([\"content\"], axis=1, inplace = False)\n",
    "\n",
    "dfMeta = dfMeta.set_axis([\"Kategorie\",\"Titel\",\"Autor\",\"Datum\"], axis=1, inplace = False)"
   ]
  },
  {
   "cell_type": "code",
   "execution_count": 34,
   "metadata": {},
   "outputs": [],
   "source": [
    "dfContent[\"id\"] = dfContent.index\n",
    "dfMeta[\"id1\"] = dfMeta.index"
   ]
  },
  {
   "cell_type": "code",
   "execution_count": 35,
   "metadata": {},
   "outputs": [],
   "source": [
    "dfData = pd.merge(dfMeta,dfContent, left_on=\"id1\", right_on=\"id\", how=\"left\").drop(\"id1\",axis=1)"
   ]
  },
  {
   "cell_type": "code",
   "execution_count": 36,
   "metadata": {},
   "outputs": [],
   "source": [
    "dfData.to_pickle(\"p:/uni/nlp/WashingtonPost_v4/data/v5/RAWData.pkl\")"
   ]
  },
  {
   "cell_type": "code",
   "execution_count": 24,
   "metadata": {},
   "outputs": [
    {
     "ename": "TypeError",
     "evalue": "expected string or bytes-like object",
     "output_type": "error",
     "traceback": [
      "\u001b[1;31m---------------------------------------------------------------------------\u001b[0m",
      "\u001b[1;31mTypeError\u001b[0m                                 Traceback (most recent call last)",
      "\u001b[1;32mp:\\uni\\nlp\\WashingtonPost_v4\\code\\v5\\pipeline_part4.ipynb Cell 13'\u001b[0m in \u001b[0;36m<cell line: 1>\u001b[1;34m()\u001b[0m\n\u001b[1;32m----> <a href='vscode-notebook-cell:/p%3A/uni/nlp/WashingtonPost_v4/code/v5/pipeline_part4.ipynb#ch0000013?line=0'>1</a>\u001b[0m re\u001b[39m.\u001b[39;49msub(\u001b[39m\"\u001b[39;49m\u001b[39m<.*?>\u001b[39;49m\u001b[39m\"\u001b[39;49m, \u001b[39m\"\u001b[39;49m\u001b[39m\"\u001b[39;49m, df[\u001b[39m\"\u001b[39;49m\u001b[39mcontents\u001b[39;49m\u001b[39m\"\u001b[39;49m])\n",
      "File \u001b[1;32mc:\\Users\\dave\\AppData\\Local\\Programs\\Python\\Python310\\lib\\re.py:209\u001b[0m, in \u001b[0;36msub\u001b[1;34m(pattern, repl, string, count, flags)\u001b[0m\n\u001b[0;32m    202\u001b[0m \u001b[39mdef\u001b[39;00m \u001b[39msub\u001b[39m(pattern, repl, string, count\u001b[39m=\u001b[39m\u001b[39m0\u001b[39m, flags\u001b[39m=\u001b[39m\u001b[39m0\u001b[39m):\n\u001b[0;32m    203\u001b[0m     \u001b[39m\"\"\"Return the string obtained by replacing the leftmost\u001b[39;00m\n\u001b[0;32m    204\u001b[0m \u001b[39m    non-overlapping occurrences of the pattern in string by the\u001b[39;00m\n\u001b[0;32m    205\u001b[0m \u001b[39m    replacement repl.  repl can be either a string or a callable;\u001b[39;00m\n\u001b[0;32m    206\u001b[0m \u001b[39m    if a string, backslash escapes in it are processed.  If it is\u001b[39;00m\n\u001b[0;32m    207\u001b[0m \u001b[39m    a callable, it's passed the Match object and must return\u001b[39;00m\n\u001b[0;32m    208\u001b[0m \u001b[39m    a replacement string to be used.\"\"\"\u001b[39;00m\n\u001b[1;32m--> 209\u001b[0m     \u001b[39mreturn\u001b[39;00m _compile(pattern, flags)\u001b[39m.\u001b[39;49msub(repl, string, count)\n",
      "\u001b[1;31mTypeError\u001b[0m: expected string or bytes-like object"
     ]
    }
   ],
   "source": []
  },
  {
   "cell_type": "code",
   "execution_count": null,
   "metadata": {},
   "outputs": [],
   "source": []
  }
 ],
 "metadata": {
  "kernelspec": {
   "display_name": "Python 3.10.1 64-bit",
   "language": "python",
   "name": "python3"
  },
  "language_info": {
   "codemirror_mode": {
    "name": "ipython",
    "version": 3
   },
   "file_extension": ".py",
   "mimetype": "text/x-python",
   "name": "python",
   "nbconvert_exporter": "python",
   "pygments_lexer": "ipython3",
   "version": "3.10.1"
  },
  "orig_nbformat": 4,
  "vscode": {
   "interpreter": {
    "hash": "96ea463da8b265c951058de84b9645eca36b660a1a779c7b0eff4941594f7f98"
   }
  }
 },
 "nbformat": 4,
 "nbformat_minor": 2
}
