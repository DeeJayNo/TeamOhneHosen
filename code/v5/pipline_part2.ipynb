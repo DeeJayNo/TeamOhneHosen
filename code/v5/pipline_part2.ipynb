{
 "cells": [
  {
   "cell_type": "code",
   "execution_count": 8,
   "id": "34cabec0",
   "metadata": {},
   "outputs": [],
   "source": [
    "import numpy as np\n",
    "import pandas as pd\n",
    "import fileinput\n",
    "import json\n",
    "from tqdm import tqdm\n",
    "tqdm.pandas()\n",
    "\n",
    "import pickle"
   ]
  },
  {
   "cell_type": "code",
   "execution_count": 2,
   "id": "861bd595",
   "metadata": {},
   "outputs": [
    {
     "name": "stdout",
     "output_type": "stream",
     "text": [
      "CPU times: user 1min 21s, sys: 35.6 s, total: 1min 57s\n",
      "Wall time: 1min 56s\n"
     ]
    },
    {
     "data": {
      "text/html": [
       "<div>\n",
       "<style scoped>\n",
       "    .dataframe tbody tr th:only-of-type {\n",
       "        vertical-align: middle;\n",
       "    }\n",
       "\n",
       "    .dataframe tbody tr th {\n",
       "        vertical-align: top;\n",
       "    }\n",
       "\n",
       "    .dataframe thead th {\n",
       "        text-align: right;\n",
       "    }\n",
       "</style>\n",
       "<table border=\"1\" class=\"dataframe\">\n",
       "  <thead>\n",
       "    <tr style=\"text-align: right;\">\n",
       "      <th></th>\n",
       "      <th>contents</th>\n",
       "    </tr>\n",
       "  </thead>\n",
       "  <tbody>\n",
       "    <tr>\n",
       "      <th>0</th>\n",
       "      <td>[{'content': 'Colleges', 'mime': 'text/plain',...</td>\n",
       "    </tr>\n",
       "    <tr>\n",
       "      <th>1</th>\n",
       "      <td>[{'content': 'Local', 'mime': 'text/plain', 't...</td>\n",
       "    </tr>\n",
       "    <tr>\n",
       "      <th>10</th>\n",
       "      <td>[{'content': 'Local', 'mime': 'text/plain', 't...</td>\n",
       "    </tr>\n",
       "    <tr>\n",
       "      <th>100</th>\n",
       "      <td>[{'content': 'Redskins/NFL', 'mime': 'text/pla...</td>\n",
       "    </tr>\n",
       "    <tr>\n",
       "      <th>1000</th>\n",
       "      <td>[{'content': 'Politics', 'mime': 'text/plain',...</td>\n",
       "    </tr>\n",
       "  </tbody>\n",
       "</table>\n",
       "</div>"
      ],
      "text/plain": [
       "                                               contents\n",
       "0     [{'content': 'Colleges', 'mime': 'text/plain',...\n",
       "1     [{'content': 'Local', 'mime': 'text/plain', 't...\n",
       "10    [{'content': 'Local', 'mime': 'text/plain', 't...\n",
       "100   [{'content': 'Redskins/NFL', 'mime': 'text/pla...\n",
       "1000  [{'content': 'Politics', 'mime': 'text/plain',..."
      ]
     },
     "execution_count": 2,
     "metadata": {},
     "output_type": "execute_result"
    }
   ],
   "source": [
    "%%time\n",
    "\n",
    "df = pd.read_json('export-4_k.json', orient = \"index\")\n",
    "  \n",
    "df.head()"
   ]
  },
  {
   "cell_type": "code",
   "execution_count": 3,
   "id": "16beac74-a019-4da3-a29c-94649b0bf1d6",
   "metadata": {},
   "outputs": [
    {
     "data": {
      "text/plain": [
       "728626"
      ]
     },
     "execution_count": 3,
     "metadata": {},
     "output_type": "execute_result"
    }
   ],
   "source": [
    "len(df)"
   ]
  },
  {
   "cell_type": "code",
   "execution_count": 12,
   "id": "08d89568",
   "metadata": {},
   "outputs": [],
   "source": [
    "df12 = df.sample(n = 12000, random_state = 11128330) #kiri: 11136561"
   ]
  },
  {
   "cell_type": "code",
   "execution_count": 13,
   "id": "bb560104-4152-4a46-990f-b7dc74acaea0",
   "metadata": {},
   "outputs": [
    {
     "data": {
      "text/html": [
       "<div>\n",
       "<style scoped>\n",
       "    .dataframe tbody tr th:only-of-type {\n",
       "        vertical-align: middle;\n",
       "    }\n",
       "\n",
       "    .dataframe tbody tr th {\n",
       "        vertical-align: top;\n",
       "    }\n",
       "\n",
       "    .dataframe thead th {\n",
       "        text-align: right;\n",
       "    }\n",
       "</style>\n",
       "<table border=\"1\" class=\"dataframe\">\n",
       "  <thead>\n",
       "    <tr style=\"text-align: right;\">\n",
       "      <th></th>\n",
       "      <th>contents</th>\n",
       "    </tr>\n",
       "  </thead>\n",
       "  <tbody>\n",
       "    <tr>\n",
       "      <th>221068</th>\n",
       "      <td>[{'content': 'Public Safety', 'mime': 'text/pl...</td>\n",
       "    </tr>\n",
       "    <tr>\n",
       "      <th>602498</th>\n",
       "      <td>[{'content': 'Colleges', 'mime': 'text/plain',...</td>\n",
       "    </tr>\n",
       "    <tr>\n",
       "      <th>502017</th>\n",
       "      <td>[{'content': 'WorldViews', 'mime': 'text/plain...</td>\n",
       "    </tr>\n",
       "    <tr>\n",
       "      <th>629311</th>\n",
       "      <td>[{'content': 'Capital Weather Gang', 'mime': '...</td>\n",
       "    </tr>\n",
       "    <tr>\n",
       "      <th>622204</th>\n",
       "      <td>[{'content': 'Transportation', 'mime': 'text/p...</td>\n",
       "    </tr>\n",
       "    <tr>\n",
       "      <th>...</th>\n",
       "      <td>...</td>\n",
       "    </tr>\n",
       "    <tr>\n",
       "      <th>587261</th>\n",
       "      <td>[{'content': 'Voraciously', 'mime': 'text/plai...</td>\n",
       "    </tr>\n",
       "    <tr>\n",
       "      <th>435995</th>\n",
       "      <td>[{'content': 'Early Lead', 'mime': 'text/plain...</td>\n",
       "    </tr>\n",
       "    <tr>\n",
       "      <th>665371</th>\n",
       "      <td>[{'content': 'Capital Weather Gang', 'mime': '...</td>\n",
       "    </tr>\n",
       "    <tr>\n",
       "      <th>27094</th>\n",
       "      <td>[{'content': 'Politics', 'mime': 'text/plain',...</td>\n",
       "    </tr>\n",
       "    <tr>\n",
       "      <th>17596</th>\n",
       "      <td>[{'content': 'Transportation', 'mime': 'text/p...</td>\n",
       "    </tr>\n",
       "  </tbody>\n",
       "</table>\n",
       "<p>12000 rows × 1 columns</p>\n",
       "</div>"
      ],
      "text/plain": [
       "                                                 contents\n",
       "221068  [{'content': 'Public Safety', 'mime': 'text/pl...\n",
       "602498  [{'content': 'Colleges', 'mime': 'text/plain',...\n",
       "502017  [{'content': 'WorldViews', 'mime': 'text/plain...\n",
       "629311  [{'content': 'Capital Weather Gang', 'mime': '...\n",
       "622204  [{'content': 'Transportation', 'mime': 'text/p...\n",
       "...                                                   ...\n",
       "587261  [{'content': 'Voraciously', 'mime': 'text/plai...\n",
       "435995  [{'content': 'Early Lead', 'mime': 'text/plain...\n",
       "665371  [{'content': 'Capital Weather Gang', 'mime': '...\n",
       "27094   [{'content': 'Politics', 'mime': 'text/plain',...\n",
       "17596   [{'content': 'Transportation', 'mime': 'text/p...\n",
       "\n",
       "[12000 rows x 1 columns]"
      ]
     },
     "execution_count": 13,
     "metadata": {},
     "output_type": "execute_result"
    }
   ],
   "source": [
    "df12"
   ]
  },
  {
   "cell_type": "code",
   "execution_count": 14,
   "id": "3b47f786",
   "metadata": {},
   "outputs": [
    {
     "name": "stdout",
     "output_type": "stream",
     "text": [
      "CPU times: user 998 ms, sys: 189 ms, total: 1.19 s\n",
      "Wall time: 1.18 s\n"
     ]
    }
   ],
   "source": [
    "%%time\n",
    "maxx= len(df12)\n",
    "abschnitt = int(maxx/6)\n",
    "i = 1\n",
    "start = 0\n",
    "end = abschnitt\n",
    "\n",
    "while(end <= maxx):\n",
    "    df[start:end].to_json(\"12_4/\"+str(i)+\".json\",orient =\"index\")\n",
    "    start = start + abschnitt\n",
    "    end = end + abschnitt\n",
    "    i+=1"
   ]
  },
  {
   "cell_type": "code",
   "execution_count": 15,
   "id": "130eb25f-c919-4627-889d-ae52b5a78012",
   "metadata": {},
   "outputs": [
    {
     "name": "stdout",
     "output_type": "stream",
     "text": [
      "CPU times: user 2.13 s, sys: 379 ms, total: 2.51 s\n",
      "Wall time: 2.52 s\n"
     ]
    }
   ],
   "source": [
    "%%time\n",
    "df12.to_pickle(\"12_4/12.pkl\")"
   ]
  },
  {
   "cell_type": "code",
   "execution_count": null,
   "id": "a4493058-d6b9-4135-9f9d-b93e5d95d896",
   "metadata": {},
   "outputs": [],
   "source": []
  }
 ],
 "metadata": {
  "kernelspec": {
   "display_name": "Python 3 (ipykernel)",
   "language": "python",
   "name": "python3"
  },
  "language_info": {
   "codemirror_mode": {
    "name": "ipython",
    "version": 3
   },
   "file_extension": ".py",
   "mimetype": "text/x-python",
   "name": "python",
   "nbconvert_exporter": "python",
   "pygments_lexer": "ipython3",
   "version": "3.8.10"
  }
 },
 "nbformat": 4,
 "nbformat_minor": 5
}
