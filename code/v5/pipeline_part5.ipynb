{
 "cells": [
  {
   "cell_type": "code",
   "execution_count": 1,
   "metadata": {},
   "outputs": [],
   "source": [
    "from tqdm import tqdm\n",
    "import numpy as np\n",
    "import pandas as pd\n",
    "tqdm.pandas()\n",
    "import fileinput\n",
    "import pickle\n",
    "import re\n",
    "import spacy\n",
    "from pandarallel import pandarallel"
   ]
  },
  {
   "cell_type": "markdown",
   "metadata": {},
   "source": [
    "!python -m spacy download en_core_web_md\n",
    "!python -m spacy download en_core_web_lg"
   ]
  },
  {
   "cell_type": "code",
   "execution_count": 2,
   "metadata": {},
   "outputs": [
    {
     "name": "stdout",
     "output_type": "stream",
     "text": [
      "INFO: Pandarallel will run on 6 workers.\n",
      "INFO: Pandarallel will use standard multiprocessing data transfer (pipe) to transfer data between the main process and workers.\n",
      "\n",
      "WARNING: You are on Windows. If you detect any issue with pandarallel, be sure you checked out the Troubleshooting page:\n",
      "https://nalepae.github.io/pandarallel/troubleshooting/\n"
     ]
    }
   ],
   "source": [
    "nlp = spacy.load(\"en_core_web_lg\")\n",
    "pandarallel.initialize(progress_bar=True)"
   ]
  },
  {
   "cell_type": "code",
   "execution_count": 3,
   "metadata": {},
   "outputs": [],
   "source": [
    "df = pd.read_pickle(\"p:/uni/nlp/WashingtonPost_v4/data/v5/RAWData.pkl\")"
   ]
  },
  {
   "cell_type": "code",
   "execution_count": 4,
   "metadata": {},
   "outputs": [],
   "source": [
    "df.Kategorie = df.Kategorie.replace(\"\\\"$|\\'$\", \"\",regex=True)\n",
    "df.Titel = df.Titel.replace(\"\\\"$|\\'$\", \"\",regex=True)\n",
    "df.Datum = df.Datum.replace(\"\\\"$|\\'$\", \"\",regex=True) "
   ]
  },
  {
   "cell_type": "code",
   "execution_count": 5,
   "metadata": {},
   "outputs": [],
   "source": [
    "df = df.set_index('id')\n",
    "df=df[:10]"
   ]
  },
  {
   "cell_type": "code",
   "execution_count": 6,
   "metadata": {},
   "outputs": [],
   "source": [
    "df.content = df.content.replace(\"\\<.*?\\>\",\"\",regex=True)"
   ]
  },
  {
   "cell_type": "code",
   "execution_count": 7,
   "metadata": {},
   "outputs": [
    {
     "data": {
      "application/vnd.jupyter.widget-view+json": {
       "model_id": "d2f6d8674cc148eea6044dd1aa4fe887",
       "version_major": 2,
       "version_minor": 0
      },
      "text/plain": [
       "VBox(children=(HBox(children=(IntProgress(value=0, description='0.00%', max=2), Label(value='0 / 2'))), HBox(c…"
      ]
     },
     "metadata": {},
     "output_type": "display_data"
    }
   ],
   "source": [
    "df[\"tokens\"] = df.parallel_apply(lambda row: [a.text for a in list(nlp(str(row[\"content\"])))], axis=1)"
   ]
  },
  {
   "cell_type": "code",
   "execution_count": 52,
   "metadata": {},
   "outputs": [
    {
     "data": {
      "text/html": [
       "<div>\n",
       "<style scoped>\n",
       "    .dataframe tbody tr th:only-of-type {\n",
       "        vertical-align: middle;\n",
       "    }\n",
       "\n",
       "    .dataframe tbody tr th {\n",
       "        vertical-align: top;\n",
       "    }\n",
       "\n",
       "    .dataframe thead th {\n",
       "        text-align: right;\n",
       "    }\n",
       "</style>\n",
       "<table border=\"1\" class=\"dataframe\">\n",
       "  <thead>\n",
       "    <tr style=\"text-align: right;\">\n",
       "      <th></th>\n",
       "      <th>Kategorie</th>\n",
       "      <th>Titel</th>\n",
       "      <th>Autor</th>\n",
       "      <th>Datum</th>\n",
       "      <th>content</th>\n",
       "    </tr>\n",
       "    <tr>\n",
       "      <th>id</th>\n",
       "      <th></th>\n",
       "      <th></th>\n",
       "      <th></th>\n",
       "      <th></th>\n",
       "      <th></th>\n",
       "    </tr>\n",
       "  </thead>\n",
       "  <tbody>\n",
       "    <tr>\n",
       "      <th>0</th>\n",
       "      <td>Education</td>\n",
       "      <td>Some students</td>\n",
       "      <td>Emma Brown</td>\n",
       "      <td>2012-01-01T22:13:59Z</td>\n",
       "      <td>Nevermind that it’s a federal holiday. And nev...</td>\n",
       "    </tr>\n",
       "    <tr>\n",
       "      <th>1</th>\n",
       "      <td>The Post's View</td>\n",
       "      <td>Medical experiments on humans</td>\n",
       "      <td>Editorial Board</td>\n",
       "      <td>2012-01-02T00:39:34Z</td>\n",
       "      <td>IN 2010, THE FEDERAL government funded 55,000 ...</td>\n",
       "    </tr>\n",
       "    <tr>\n",
       "      <th>2</th>\n",
       "      <td>Politics</td>\n",
       "      <td>Iowa caucuses: One day out.</td>\n",
       "      <td>Karen Tumulty; David A. Fahrenthold</td>\n",
       "      <td>2012-01-03T01:37:00Z</td>\n",
       "      <td>DES MOINES — One candidate made an appearance ...</td>\n",
       "    </tr>\n",
       "    <tr>\n",
       "      <th>3</th>\n",
       "      <td>Technology</td>\n",
       "      <td>Rumor roundup: ‘iPad 3’ displays</td>\n",
       "      <td>Hayley Tsukayama</td>\n",
       "      <td>2012-01-03T13:58:00Z</td>\n",
       "      <td>With the new year comes a fresh burst of excit...</td>\n",
       "    </tr>\n",
       "    <tr>\n",
       "      <th>4</th>\n",
       "      <td>Technology</td>\n",
       "      <td>Nintendo 3DS hits 4M in sales</td>\n",
       "      <td>Hayley Tsukayama</td>\n",
       "      <td>2012-01-03T15:42:08Z</td>\n",
       "      <td>Nintendo’s newest piece of hardware, the Ninte...</td>\n",
       "    </tr>\n",
       "    <tr>\n",
       "      <th>...</th>\n",
       "      <td>...</td>\n",
       "      <td>...</td>\n",
       "      <td>...</td>\n",
       "      <td>...</td>\n",
       "      <td>...</td>\n",
       "    </tr>\n",
       "    <tr>\n",
       "      <th>12328</th>\n",
       "      <td>Letters to the Editor</td>\n",
       "      <td>Trickle-down is the zombie economic idea that ...</td>\n",
       "      <td>Letters to the Editor</td>\n",
       "      <td>2020-12-30T21:25:51Z</td>\n",
       "      <td>The Dec. 24 news analysis “\\u2009‘Trickle-down...</td>\n",
       "    </tr>\n",
       "    <tr>\n",
       "      <th>12329</th>\n",
       "      <td>College Sports</td>\n",
       "      <td>Wisconsin quarterback’s untimely fumble shatte...</td>\n",
       "      <td>Cindy  Boren</td>\n",
       "      <td>None</td>\n",
       "      <td>A funny thing happened to the Wisconsin Badger...</td>\n",
       "    </tr>\n",
       "    <tr>\n",
       "      <th>12330</th>\n",
       "      <td>Business</td>\n",
       "      <td>The stock market is ending 2020 at record highs</td>\n",
       "      <td>Hamza Shaban; Heather Long</td>\n",
       "      <td>None</td>\n",
       "      <td>The U.S. stock market ended 2020 at all-time h...</td>\n",
       "    </tr>\n",
       "    <tr>\n",
       "      <th>12331</th>\n",
       "      <td>Washington NFL</td>\n",
       "      <td>Alex Smith</td>\n",
       "      <td>Nicki Jhabvala</td>\n",
       "      <td>None</td>\n",
       "      <td>As the Washington Football Team’s regular seas...</td>\n",
       "    </tr>\n",
       "    <tr>\n",
       "      <th>12332</th>\n",
       "      <td>The Post's View</td>\n",
       "      <td>The vaccine rollout is flagging. It must be ac...</td>\n",
       "      <td>Editorial Board</td>\n",
       "      <td>2020-12-31T00:32:38Z</td>\n",
       "      <td>UNLIKE WITH other botched aspects of the pande...</td>\n",
       "    </tr>\n",
       "  </tbody>\n",
       "</table>\n",
       "<p>12333 rows × 5 columns</p>\n",
       "</div>"
      ],
      "text/plain": [
       "                   Kategorie  \\\n",
       "id                             \n",
       "0                  Education   \n",
       "1            The Post's View   \n",
       "2                   Politics   \n",
       "3                 Technology   \n",
       "4                 Technology   \n",
       "...                      ...   \n",
       "12328  Letters to the Editor   \n",
       "12329         College Sports   \n",
       "12330               Business   \n",
       "12331         Washington NFL   \n",
       "12332        The Post's View   \n",
       "\n",
       "                                                   Titel  \\\n",
       "id                                                         \n",
       "0                                          Some students   \n",
       "1                          Medical experiments on humans   \n",
       "2                            Iowa caucuses: One day out.   \n",
       "3                       Rumor roundup: ‘iPad 3’ displays   \n",
       "4                          Nintendo 3DS hits 4M in sales   \n",
       "...                                                  ...   \n",
       "12328  Trickle-down is the zombie economic idea that ...   \n",
       "12329  Wisconsin quarterback’s untimely fumble shatte...   \n",
       "12330    The stock market is ending 2020 at record highs   \n",
       "12331                                         Alex Smith   \n",
       "12332  The vaccine rollout is flagging. It must be ac...   \n",
       "\n",
       "                                     Autor                 Datum  \\\n",
       "id                                                                 \n",
       "0                               Emma Brown  2012-01-01T22:13:59Z   \n",
       "1                          Editorial Board  2012-01-02T00:39:34Z   \n",
       "2      Karen Tumulty; David A. Fahrenthold  2012-01-03T01:37:00Z   \n",
       "3                         Hayley Tsukayama  2012-01-03T13:58:00Z   \n",
       "4                         Hayley Tsukayama  2012-01-03T15:42:08Z   \n",
       "...                                    ...                   ...   \n",
       "12328                Letters to the Editor  2020-12-30T21:25:51Z   \n",
       "12329                         Cindy  Boren                  None   \n",
       "12330           Hamza Shaban; Heather Long                  None   \n",
       "12331                       Nicki Jhabvala                  None   \n",
       "12332                      Editorial Board  2020-12-31T00:32:38Z   \n",
       "\n",
       "                                                 content  \n",
       "id                                                        \n",
       "0      Nevermind that it’s a federal holiday. And nev...  \n",
       "1      IN 2010, THE FEDERAL government funded 55,000 ...  \n",
       "2      DES MOINES — One candidate made an appearance ...  \n",
       "3      With the new year comes a fresh burst of excit...  \n",
       "4      Nintendo’s newest piece of hardware, the Ninte...  \n",
       "...                                                  ...  \n",
       "12328  The Dec. 24 news analysis “\\u2009‘Trickle-down...  \n",
       "12329  A funny thing happened to the Wisconsin Badger...  \n",
       "12330  The U.S. stock market ended 2020 at all-time h...  \n",
       "12331  As the Washington Football Team’s regular seas...  \n",
       "12332  UNLIKE WITH other botched aspects of the pande...  \n",
       "\n",
       "[12333 rows x 5 columns]"
      ]
     },
     "execution_count": 52,
     "metadata": {},
     "output_type": "execute_result"
    }
   ],
   "source": [
    "df"
   ]
  },
  {
   "cell_type": "code",
   "execution_count": null,
   "metadata": {},
   "outputs": [],
   "source": [
    "all_stopwords = nlp.Defaults.stop_words\n",
    "def remove_stopwords_from_list(list_in):\n",
    "    return [a for a in list_in if a not in all_stopwords]"
   ]
  },
  {
   "cell_type": "code",
   "execution_count": null,
   "metadata": {},
   "outputs": [],
   "source": [
    "df[\"no_stop\"] = data.parallel_apply(lambda row: remove_stopwords_from_list(row[\"tokens\"]), axis=1)\n",
    "data[\"lemma\"] = data.parallel_apply(lambda row: [t.lemma_ for t in nlp(row[\"content\"])], axis=1)"
   ]
  }
 ],
 "metadata": {
  "kernelspec": {
   "display_name": "Python 3.10.1 64-bit",
   "language": "python",
   "name": "python3"
  },
  "language_info": {
   "codemirror_mode": {
    "name": "ipython",
    "version": 3
   },
   "file_extension": ".py",
   "mimetype": "text/x-python",
   "name": "python",
   "nbconvert_exporter": "python",
   "pygments_lexer": "ipython3",
   "version": "3.10.1"
  },
  "orig_nbformat": 4,
  "vscode": {
   "interpreter": {
    "hash": "96ea463da8b265c951058de84b9645eca36b660a1a779c7b0eff4941594f7f98"
   }
  }
 },
 "nbformat": 4,
 "nbformat_minor": 2
}
