{
 "cells": [
  {
   "cell_type": "code",
   "execution_count": 1,
   "metadata": {},
   "outputs": [],
   "source": [
    "from tqdm import tqdm\n",
    "import numpy as np\n",
    "import pandas as pd\n",
    "tqdm.pandas()\n",
    "import fileinput\n",
    "import pickle\n",
    "import re\n",
    "import spacy\n",
    "from pandarallel import pandarallel"
   ]
  },
  {
   "cell_type": "markdown",
   "metadata": {},
   "source": [
    "!python -m spacy download en_core_web_md\n",
    "!python -m spacy download en_core_web_lg"
   ]
  },
  {
   "cell_type": "code",
   "execution_count": 2,
   "metadata": {},
   "outputs": [
    {
     "name": "stdout",
     "output_type": "stream",
     "text": [
      "INFO: Pandarallel will run on 6 workers.\n",
      "INFO: Pandarallel will use standard multiprocessing data transfer (pipe) to transfer data between the main process and workers.\n",
      "\n",
      "WARNING: You are on Windows. If you detect any issue with pandarallel, be sure you checked out the Troubleshooting page:\n",
      "https://nalepae.github.io/pandarallel/troubleshooting/\n"
     ]
    }
   ],
   "source": [
    "nlp = spacy.load(\"en_core_web_lg\")\n",
    "pandarallel.initialize(progress_bar=True)\n"
   ]
  },
  {
   "cell_type": "code",
   "execution_count": 5,
   "metadata": {},
   "outputs": [],
   "source": [
    "df = pd.read_pickle(\"p:/uni/nlp/WashingtonPost_v4/data/v5/RAWData.pkl\")"
   ]
  },
  {
   "cell_type": "code",
   "execution_count": 6,
   "metadata": {},
   "outputs": [],
   "source": [
    "df.Kategorie = df.Kategorie.replace(\"\\\"$|\\'$\", \"\",regex=True)\n",
    "df.Titel = df.Titel.replace(\"\\\"$|\\'$\", \"\",regex=True)\n",
    "df.Datum = df.Datum.replace(\"\\\"$|\\'$\", \"\",regex=True) "
   ]
  },
  {
   "cell_type": "code",
   "execution_count": 7,
   "metadata": {},
   "outputs": [],
   "source": [
    "df = df.set_index('id')\n"
   ]
  },
  {
   "cell_type": "code",
   "execution_count": 8,
   "metadata": {},
   "outputs": [],
   "source": [
    "df.content = df.content.replace(\"\\<.*?\\>\",\"\",regex=True)"
   ]
  },
  {
   "cell_type": "code",
   "execution_count": 9,
   "metadata": {},
   "outputs": [],
   "source": [
    "df[\"tokens\"] = df.apply(lambda row: [a.text for a in list(nlp(str(row[\"content\"])))], axis=1)"
   ]
  },
  {
   "cell_type": "code",
   "execution_count": null,
   "metadata": {},
   "outputs": [],
   "source": [
    "all_stopwords = nlp.Defaults.stop_words\n",
    "def remove_stopwords_from_list(list_in):\n",
    "    return [a for a in list_in if a not in all_stopwords]"
   ]
  },
  {
   "cell_type": "code",
   "execution_count": null,
   "metadata": {},
   "outputs": [
    {
     "data": {
      "application/vnd.jupyter.widget-view+json": {
       "model_id": "d6dcf56c34de42048568bd33572512b9",
       "version_major": 2,
       "version_minor": 0
      },
      "text/plain": [
       "VBox(children=(HBox(children=(IntProgress(value=0, description='0.00%', max=2), Label(value='0 / 2'))), HBox(c…"
      ]
     },
     "metadata": {},
     "output_type": "display_data"
    }
   ],
   "source": [
    "#pandarallel\n",
    "df[\"no_stop\"] = df.parallel_apply(lambda row: remove_stopwords_from_list(row[\"tokens\"]), axis=1)\n",
    "\n",
    "df[\"pos\"] = df.parallel_apply(lambda row: [t.pos_ for t in nlp(row[\"content\"])], axis=1)\n",
    "\n",
    "df[\"lemma\"] = df.parallel_apply(lambda row: [t.lemma_ for t in nlp(row[\"content\"])], axis=1)\n"
   ]
  },
  {
   "cell_type": "code",
   "execution_count": null,
   "metadata": {},
   "outputs": [],
   "source": [
    "# no pandarallel\n",
    "df[\"no_stop\"] = df.apply(lambda row: remove_stopwords_from_list(row[\"tokens\"]), axis=1)\n",
    "\n",
    "df[\"pos\"] = df.apply(lambda row: [t.pos_ for t in nlp(row[\"content\"])], axis=1)\n",
    "\n",
    "df[\"lemma\"] = df.apply(lambda row: [t.lemma_ for t in nlp(row[\"content\"])], axis=1)\n"
   ]
  },
  {
   "cell_type": "code",
   "execution_count": null,
   "metadata": {},
   "outputs": [
    {
     "data": {
      "text/html": [
       "<div>\n",
       "<style scoped>\n",
       "    .dataframe tbody tr th:only-of-type {\n",
       "        vertical-align: middle;\n",
       "    }\n",
       "\n",
       "    .dataframe tbody tr th {\n",
       "        vertical-align: top;\n",
       "    }\n",
       "\n",
       "    .dataframe thead th {\n",
       "        text-align: right;\n",
       "    }\n",
       "</style>\n",
       "<table border=\"1\" class=\"dataframe\">\n",
       "  <thead>\n",
       "    <tr style=\"text-align: right;\">\n",
       "      <th></th>\n",
       "      <th>Kategorie</th>\n",
       "      <th>Titel</th>\n",
       "      <th>Autor</th>\n",
       "      <th>Datum</th>\n",
       "      <th>content</th>\n",
       "      <th>tokens</th>\n",
       "      <th>no_stop</th>\n",
       "      <th>lemma</th>\n",
       "      <th>pos</th>\n",
       "    </tr>\n",
       "    <tr>\n",
       "      <th>id</th>\n",
       "      <th></th>\n",
       "      <th></th>\n",
       "      <th></th>\n",
       "      <th></th>\n",
       "      <th></th>\n",
       "      <th></th>\n",
       "      <th></th>\n",
       "      <th></th>\n",
       "      <th></th>\n",
       "    </tr>\n",
       "  </thead>\n",
       "  <tbody>\n",
       "    <tr>\n",
       "      <th>0</th>\n",
       "      <td>Education</td>\n",
       "      <td>Some students</td>\n",
       "      <td>Emma Brown</td>\n",
       "      <td>2012-01-01T22:13:59Z</td>\n",
       "      <td>Nevermind that it’s a federal holiday. And nev...</td>\n",
       "      <td>[Nevermind, that, it, ’s, a, federal, holiday,...</td>\n",
       "      <td>[Nevermind, federal, holiday, ., And, nevermin...</td>\n",
       "      <td>[nevermind, that, it, ’, a, federal, holiday, ...</td>\n",
       "      <td>[INTJ, SCONJ, PRON, VERB, DET, ADJ, NOUN, PUNC...</td>\n",
       "    </tr>\n",
       "    <tr>\n",
       "      <th>1</th>\n",
       "      <td>The Post's View</td>\n",
       "      <td>Medical experiments on humans</td>\n",
       "      <td>Editorial Board</td>\n",
       "      <td>2012-01-02T00:39:34Z</td>\n",
       "      <td>IN 2010, THE FEDERAL government funded 55,000 ...</td>\n",
       "      <td>[IN, 2010, ,, THE, FEDERAL, government, funded...</td>\n",
       "      <td>[IN, 2010, ,, THE, FEDERAL, government, funded...</td>\n",
       "      <td>[in, 2010, ,, the, federal, government, fund, ...</td>\n",
       "      <td>[ADP, NUM, PUNCT, DET, ADJ, NOUN, VERB, NUM, N...</td>\n",
       "    </tr>\n",
       "    <tr>\n",
       "      <th>2</th>\n",
       "      <td>Politics</td>\n",
       "      <td>Iowa caucuses: One day out.</td>\n",
       "      <td>Karen Tumulty; David A. Fahrenthold</td>\n",
       "      <td>2012-01-03T01:37:00Z</td>\n",
       "      <td>DES MOINES — One candidate made an appearance ...</td>\n",
       "      <td>[DES, MOINES, —, One, candidate, made, an, app...</td>\n",
       "      <td>[DES, MOINES, —, One, candidate, appearance, w...</td>\n",
       "      <td>[DES, MOINES, —, one, candidate, make, an, app...</td>\n",
       "      <td>[PROPN, PROPN, PUNCT, NUM, NOUN, VERB, DET, NO...</td>\n",
       "    </tr>\n",
       "    <tr>\n",
       "      <th>3</th>\n",
       "      <td>Technology</td>\n",
       "      <td>Rumor roundup: ‘iPad 3’ displays</td>\n",
       "      <td>Hayley Tsukayama</td>\n",
       "      <td>2012-01-03T13:58:00Z</td>\n",
       "      <td>With the new year comes a fresh burst of excit...</td>\n",
       "      <td>[With, the, new, year, comes, a, fresh, burst,...</td>\n",
       "      <td>[With, new, year, comes, fresh, burst, excitem...</td>\n",
       "      <td>[with, the, new, year, come, a, fresh, burst, ...</td>\n",
       "      <td>[SCONJ, DET, ADJ, NOUN, VERB, DET, ADJ, NOUN, ...</td>\n",
       "    </tr>\n",
       "    <tr>\n",
       "      <th>4</th>\n",
       "      <td>Technology</td>\n",
       "      <td>Nintendo 3DS hits 4M in sales</td>\n",
       "      <td>Hayley Tsukayama</td>\n",
       "      <td>2012-01-03T15:42:08Z</td>\n",
       "      <td>Nintendo’s newest piece of hardware, the Ninte...</td>\n",
       "      <td>[Nintendo, ’s, newest, piece, of, hardware, ,,...</td>\n",
       "      <td>[Nintendo, newest, piece, hardware, ,, Nintend...</td>\n",
       "      <td>[Nintendo, ’s, new, piece, of, hardware, ,, th...</td>\n",
       "      <td>[PROPN, PART, ADJ, NOUN, ADP, NOUN, PUNCT, DET...</td>\n",
       "    </tr>\n",
       "    <tr>\n",
       "      <th>5</th>\n",
       "      <td>Local</td>\n",
       "      <td>Arc of Northern Virginia provides a voice for ...</td>\n",
       "      <td>Kali Schumitz</td>\n",
       "      <td>2012-01-04T14:41:00Z</td>\n",
       "      <td>Although people of all backgrounds are struggl...</td>\n",
       "      <td>[Although, people, of, all, backgrounds, are, ...</td>\n",
       "      <td>[Although, people, backgrounds, struggling, fi...</td>\n",
       "      <td>[although, people, of, all, background, be, st...</td>\n",
       "      <td>[SCONJ, NOUN, ADP, DET, NOUN, AUX, VERB, PART,...</td>\n",
       "    </tr>\n",
       "    <tr>\n",
       "      <th>6</th>\n",
       "      <td>Technology</td>\n",
       "      <td>Yahoo: Who is new CEO Scott Thompson?</td>\n",
       "      <td>Hayley Tsukayama</td>\n",
       "      <td>2012-01-04T19:34:00Z</td>\n",
       "      <td>Yahoo named a new chief executive Wednesday mo...</td>\n",
       "      <td>[Yahoo, named, a, new, chief, executive, Wedne...</td>\n",
       "      <td>[Yahoo, named, new, chief, executive, Wednesda...</td>\n",
       "      <td>[Yahoo, name, a, new, chief, executive, Wednes...</td>\n",
       "      <td>[PROPN, VERB, DET, ADJ, ADJ, NOUN, PROPN, NOUN...</td>\n",
       "    </tr>\n",
       "    <tr>\n",
       "      <th>7</th>\n",
       "      <td>Sports</td>\n",
       "      <td>Sugar Bowl: Hokies reflect on disappointing en...</td>\n",
       "      <td>Mark Giannotto</td>\n",
       "      <td>2012-01-04T20:58:58Z</td>\n",
       "      <td>NEW ORLEANS —  Virginia Tech senior wide recei...</td>\n",
       "      <td>[NEW, ORLEANS, —,  , Virginia, Tech, senior, w...</td>\n",
       "      <td>[NEW, ORLEANS, —,  , Virginia, Tech, senior, w...</td>\n",
       "      <td>[NEW, ORLEANS, —,  , Virginia, Tech, senior, w...</td>\n",
       "      <td>[PROPN, PROPN, PUNCT, SPACE, PROPN, PROPN, ADJ...</td>\n",
       "    </tr>\n",
       "    <tr>\n",
       "      <th>8</th>\n",
       "      <td>Travel</td>\n",
       "      <td>Google’s Flight Search becoming formidable</td>\n",
       "      <td>Christopher Elliott</td>\n",
       "      <td>2012-01-05T15:15:25Z</td>\n",
       "      <td>If you haven’t Googled a flight itinerary rece...</td>\n",
       "      <td>[If, you, have, n’t, Googled, a, flight, itine...</td>\n",
       "      <td>[If, Googled, flight, itinerary, recently, ,, ...</td>\n",
       "      <td>[if, you, have, not, google, a, flight, itiner...</td>\n",
       "      <td>[SCONJ, PRON, AUX, PART, VERB, DET, NOUN, NOUN...</td>\n",
       "    </tr>\n",
       "    <tr>\n",
       "      <th>9</th>\n",
       "      <td>Real Estate</td>\n",
       "      <td>How the government can improve the real estate...</td>\n",
       "      <td>Harvey S. Jacobs</td>\n",
       "      <td>2012-01-05T19:35:15Z</td>\n",
       "      <td>As we ponder the many ways we can improve ours...</td>\n",
       "      <td>[As, we, ponder, the, many, ways, we, can, imp...</td>\n",
       "      <td>[As, ponder, ways, improve, new, year, ,, I, t...</td>\n",
       "      <td>[as, we, ponder, the, many, way, we, can, impr...</td>\n",
       "      <td>[SCONJ, PRON, VERB, DET, ADJ, NOUN, PRON, AUX,...</td>\n",
       "    </tr>\n",
       "  </tbody>\n",
       "</table>\n",
       "</div>"
      ],
      "text/plain": [
       "          Kategorie                                              Titel  \\\n",
       "id                                                                       \n",
       "0         Education                                      Some students   \n",
       "1   The Post's View                      Medical experiments on humans   \n",
       "2          Politics                        Iowa caucuses: One day out.   \n",
       "3        Technology                   Rumor roundup: ‘iPad 3’ displays   \n",
       "4        Technology                      Nintendo 3DS hits 4M in sales   \n",
       "5             Local  Arc of Northern Virginia provides a voice for ...   \n",
       "6        Technology              Yahoo: Who is new CEO Scott Thompson?   \n",
       "7            Sports  Sugar Bowl: Hokies reflect on disappointing en...   \n",
       "8            Travel         Google’s Flight Search becoming formidable   \n",
       "9       Real Estate  How the government can improve the real estate...   \n",
       "\n",
       "                                  Autor                 Datum  \\\n",
       "id                                                              \n",
       "0                            Emma Brown  2012-01-01T22:13:59Z   \n",
       "1                       Editorial Board  2012-01-02T00:39:34Z   \n",
       "2   Karen Tumulty; David A. Fahrenthold  2012-01-03T01:37:00Z   \n",
       "3                      Hayley Tsukayama  2012-01-03T13:58:00Z   \n",
       "4                      Hayley Tsukayama  2012-01-03T15:42:08Z   \n",
       "5                         Kali Schumitz  2012-01-04T14:41:00Z   \n",
       "6                      Hayley Tsukayama  2012-01-04T19:34:00Z   \n",
       "7                        Mark Giannotto  2012-01-04T20:58:58Z   \n",
       "8                   Christopher Elliott  2012-01-05T15:15:25Z   \n",
       "9                      Harvey S. Jacobs  2012-01-05T19:35:15Z   \n",
       "\n",
       "                                              content  \\\n",
       "id                                                      \n",
       "0   Nevermind that it’s a federal holiday. And nev...   \n",
       "1   IN 2010, THE FEDERAL government funded 55,000 ...   \n",
       "2   DES MOINES — One candidate made an appearance ...   \n",
       "3   With the new year comes a fresh burst of excit...   \n",
       "4   Nintendo’s newest piece of hardware, the Ninte...   \n",
       "5   Although people of all backgrounds are struggl...   \n",
       "6   Yahoo named a new chief executive Wednesday mo...   \n",
       "7   NEW ORLEANS —  Virginia Tech senior wide recei...   \n",
       "8   If you haven’t Googled a flight itinerary rece...   \n",
       "9   As we ponder the many ways we can improve ours...   \n",
       "\n",
       "                                               tokens  \\\n",
       "id                                                      \n",
       "0   [Nevermind, that, it, ’s, a, federal, holiday,...   \n",
       "1   [IN, 2010, ,, THE, FEDERAL, government, funded...   \n",
       "2   [DES, MOINES, —, One, candidate, made, an, app...   \n",
       "3   [With, the, new, year, comes, a, fresh, burst,...   \n",
       "4   [Nintendo, ’s, newest, piece, of, hardware, ,,...   \n",
       "5   [Although, people, of, all, backgrounds, are, ...   \n",
       "6   [Yahoo, named, a, new, chief, executive, Wedne...   \n",
       "7   [NEW, ORLEANS, —,  , Virginia, Tech, senior, w...   \n",
       "8   [If, you, have, n’t, Googled, a, flight, itine...   \n",
       "9   [As, we, ponder, the, many, ways, we, can, imp...   \n",
       "\n",
       "                                              no_stop  \\\n",
       "id                                                      \n",
       "0   [Nevermind, federal, holiday, ., And, nevermin...   \n",
       "1   [IN, 2010, ,, THE, FEDERAL, government, funded...   \n",
       "2   [DES, MOINES, —, One, candidate, appearance, w...   \n",
       "3   [With, new, year, comes, fresh, burst, excitem...   \n",
       "4   [Nintendo, newest, piece, hardware, ,, Nintend...   \n",
       "5   [Although, people, backgrounds, struggling, fi...   \n",
       "6   [Yahoo, named, new, chief, executive, Wednesda...   \n",
       "7   [NEW, ORLEANS, —,  , Virginia, Tech, senior, w...   \n",
       "8   [If, Googled, flight, itinerary, recently, ,, ...   \n",
       "9   [As, ponder, ways, improve, new, year, ,, I, t...   \n",
       "\n",
       "                                                lemma  \\\n",
       "id                                                      \n",
       "0   [nevermind, that, it, ’, a, federal, holiday, ...   \n",
       "1   [in, 2010, ,, the, federal, government, fund, ...   \n",
       "2   [DES, MOINES, —, one, candidate, make, an, app...   \n",
       "3   [with, the, new, year, come, a, fresh, burst, ...   \n",
       "4   [Nintendo, ’s, new, piece, of, hardware, ,, th...   \n",
       "5   [although, people, of, all, background, be, st...   \n",
       "6   [Yahoo, name, a, new, chief, executive, Wednes...   \n",
       "7   [NEW, ORLEANS, —,  , Virginia, Tech, senior, w...   \n",
       "8   [if, you, have, not, google, a, flight, itiner...   \n",
       "9   [as, we, ponder, the, many, way, we, can, impr...   \n",
       "\n",
       "                                                  pos  \n",
       "id                                                     \n",
       "0   [INTJ, SCONJ, PRON, VERB, DET, ADJ, NOUN, PUNC...  \n",
       "1   [ADP, NUM, PUNCT, DET, ADJ, NOUN, VERB, NUM, N...  \n",
       "2   [PROPN, PROPN, PUNCT, NUM, NOUN, VERB, DET, NO...  \n",
       "3   [SCONJ, DET, ADJ, NOUN, VERB, DET, ADJ, NOUN, ...  \n",
       "4   [PROPN, PART, ADJ, NOUN, ADP, NOUN, PUNCT, DET...  \n",
       "5   [SCONJ, NOUN, ADP, DET, NOUN, AUX, VERB, PART,...  \n",
       "6   [PROPN, VERB, DET, ADJ, ADJ, NOUN, PROPN, NOUN...  \n",
       "7   [PROPN, PROPN, PUNCT, SPACE, PROPN, PROPN, ADJ...  \n",
       "8   [SCONJ, PRON, AUX, PART, VERB, DET, NOUN, NOUN...  \n",
       "9   [SCONJ, PRON, VERB, DET, ADJ, NOUN, PRON, AUX,...  "
      ]
     },
     "execution_count": 22,
     "metadata": {},
     "output_type": "execute_result"
    }
   ],
   "source": [
    "df"
   ]
  },
  {
   "cell_type": "code",
   "execution_count": null,
   "metadata": {},
   "outputs": [],
   "source": []
  }
 ],
 "metadata": {
  "kernelspec": {
   "display_name": "Python 3 (ipykernel)",
   "language": "python",
   "name": "python3"
  },
  "language_info": {
   "codemirror_mode": {
    "name": "ipython",
    "version": 3
   },
   "file_extension": ".py",
   "mimetype": "text/x-python",
   "name": "python",
   "nbconvert_exporter": "python",
   "pygments_lexer": "ipython3",
   "version": "3.10.1"
  },
  "vscode": {
   "interpreter": {
    "hash": "96ea463da8b265c951058de84b9645eca36b660a1a779c7b0eff4941594f7f98"
   }
  }
 },
 "nbformat": 4,
 "nbformat_minor": 4
}
