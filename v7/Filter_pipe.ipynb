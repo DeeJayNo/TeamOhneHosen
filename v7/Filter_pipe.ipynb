{
 "cells": [
  {
   "cell_type": "markdown",
   "id": "2030dcf3-6b93-4e18-aaf2-2ab625788f20",
   "metadata": {},
   "source": [
    "# Filter for relevant keywords"
   ]
  },
  {
   "cell_type": "markdown",
   "id": "44717014-9bc9-47d1-9993-af3f8325418f",
   "metadata": {},
   "source": [
    "### import neccessary libarays"
   ]
  },
  {
   "cell_type": "code",
   "execution_count": 19,
   "id": "6de55ee0-8746-4fa5-900b-6ac24d3bb87a",
   "metadata": {},
   "outputs": [],
   "source": [
    "import glob\n",
    "import os\n",
    "import pandas as pd"
   ]
  },
  {
   "cell_type": "markdown",
   "id": "17542bf3-822e-4aea-a463-b45b61ab4d7c",
   "metadata": {},
   "source": [
    "### keyword list"
   ]
  },
  {
   "cell_type": "code",
   "execution_count": null,
   "id": "42292efe-99c0-4083-a922-428df0092626",
   "metadata": {},
   "outputs": [],
   "source": [
    "sub_list=\"weapon|weapons|gun|guns|shooting|shootings|violence|murder|homocide|suicide|firearm|firearms|weapon industry\""
   ]
  },
  {
   "cell_type": "markdown",
   "id": "9fb1a85b-1d1b-4deb-8b76-a6534944fd4b",
   "metadata": {},
   "source": [
    "### filter keywords & save to final csv file"
   ]
  },
  {
   "cell_type": "code",
   "execution_count": 17,
   "id": "ef839253-ac00-436d-bdd9-16047f2da28f",
   "metadata": {},
   "outputs": [
    {
     "name": "stdout",
     "output_type": "stream",
     "text": [
      "Filtered: 16/16_rdy.json\n",
      "Filtered: 16/4_rdy.json\n",
      "Filtered: 16/5_rdy.json\n",
      "Filtered: 16/11_rdy.json\n",
      "Filtered: 16/10_rdy.json\n",
      "Filtered: 16/9_rdy.json\n",
      "Filtered: 16/8_rdy.json\n",
      "Filtered: 16/3_rdy.json\n",
      "Filtered: 16/2_rdy.json\n",
      "Filtered: 16/7_rdy.json\n",
      "Filtered: 16/6_rdy.json\n",
      "Filtered: 16/15_rdy.json\n",
      "Filtered: 16/14_rdy.json\n",
      "Filtered: 16/1_rdy.json\n",
      "Filtered: 16/12_rdy.json\n",
      "Filtered: 16/13_rdy.json\n"
     ]
    }
   ],
   "source": [
    "c=0\n",
    "for files in glob.glob(\"16/*.json\"):\n",
    "    c+=1\n",
    "    print(\"Filtered: \"+ files)\n",
    "    # DF einlesen\n",
    "    df_file = pd.read_json(files)\n",
    "    df_file= df_file[df_file['content'].str.contains(sub_list, na = False)]\n",
    "    df_file= df_file[df_file['Titel'].str.contains(sub_list, na = False)]\n",
    "    df_file.to_csv(\"16/filtered/tmp/\"+str(c)+\"_filtered_tmp.csv\")\n",
    "\n",
    "all_files = glob.glob(os.path.join(\"16/filtered/tmp/\", \"*.csv\"))\n",
    "df = pd.concat((pd.read_csv(f) for f in all_files), ignore_index=True)\n",
    "df.to_csv(\"for_stance\"+str(c)+\".csv\")"
   ]
  }
 ],
 "metadata": {
  "kernelspec": {
   "display_name": "Python 3 (ipykernel)",
   "language": "python",
   "name": "python3"
  },
  "language_info": {
   "codemirror_mode": {
    "name": "ipython",
    "version": 3
   },
   "file_extension": ".py",
   "mimetype": "text/x-python",
   "name": "python",
   "nbconvert_exporter": "python",
   "pygments_lexer": "ipython3",
   "version": "3.10.4"
  }
 },
 "nbformat": 4,
 "nbformat_minor": 5
}
