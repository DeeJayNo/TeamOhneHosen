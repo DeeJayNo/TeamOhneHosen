{
 "cells": [
  {
   "cell_type": "code",
   "execution_count": 2,
   "id": "6de55ee0-8746-4fa5-900b-6ac24d3bb87a",
   "metadata": {},
   "outputs": [],
   "source": [
    "import glob\n",
    "import pandas as pd"
   ]
  },
  {
   "cell_type": "code",
   "execution_count": 5,
   "id": "ef839253-ac00-436d-bdd9-16047f2da28f",
   "metadata": {},
   "outputs": [
    {
     "name": "stdout",
     "output_type": "stream",
     "text": [
      "reading from: 16/test/4_rdy.json\n"
     ]
    }
   ],
   "source": [
    "sub_list=\"weapon|weapons|gun|guns|shooting|shootings|violence|murder|homocide|suicide|firearm|firearms|weapon industry\"\n",
    "c=0\n",
    "for files in glob.glob(\"16/test/*.json\"):\n",
    "    c+=1\n",
    "    print(\"reading from: \"+ files)\n",
    "    # DF einlesen\n",
    "    df_file = pd.read_json(files)\n",
    "    df_file= df_file[df_file['content'].str.contains(sub_list, na = False)]\n",
    "    df_file= df_file[df_file['Titel'].str.contains(sub_list, na = False)]\n",
    "    df_file.to_json(\"16/filtered/\"+str(c)+\"_filtered.json\")\n",
    "\n",
    "\n",
    "    "
   ]
  },
  {
   "cell_type": "code",
   "execution_count": null,
   "id": "9e0162c4-ac14-4fc5-bdd1-069597719eae",
   "metadata": {},
   "outputs": [],
   "source": []
  }
 ],
 "metadata": {
  "kernelspec": {
   "display_name": "Python 3 (ipykernel)",
   "language": "python",
   "name": "python3"
  },
  "language_info": {
   "codemirror_mode": {
    "name": "ipython",
    "version": 3
   },
   "file_extension": ".py",
   "mimetype": "text/x-python",
   "name": "python",
   "nbconvert_exporter": "python",
   "pygments_lexer": "ipython3",
   "version": "3.10.4"
  }
 },
 "nbformat": 4,
 "nbformat_minor": 5
}
