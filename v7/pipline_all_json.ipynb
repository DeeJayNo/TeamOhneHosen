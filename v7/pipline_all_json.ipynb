{
 "cells": [
  {
   "cell_type": "markdown",
   "id": "9071eee2",
   "metadata": {},
   "source": [
    "# Daten-Pipeline Part 1\n",
    "- Einlesen Rohdaten<br>\n",
    "- grobes Filtern<br>\n",
    "- Bereinigung nach Titel und Autor<br>\n",
    "- Export in kleinere JSON-Dateien"
   ]
  },
  {
   "cell_type": "markdown",
   "id": "a1671bc7",
   "metadata": {},
   "source": [
    "### Imports und Funktionen:"
   ]
  },
  {
   "cell_type": "code",
   "execution_count": 5,
   "id": "64021e6f",
   "metadata": {},
   "outputs": [],
   "source": [
    "# nötige imports\n",
    "import numpy as np\n",
    "import pandas as pd\n",
    "import fileinput\n",
    "import json\n",
    "from tqdm import tqdm\n",
    "tqdm.pandas()\n",
    "from tssplit import tssplit\n",
    "import re"
   ]
  },
  {
   "cell_type": "code",
   "execution_count": 6,
   "id": "d76bfb15-4439-42a8-97a5-a12636cb555c",
   "metadata": {},
   "outputs": [],
   "source": [
    "# Unique list erstellen für cleaning\n",
    "def remove_duplicates(l):\n",
    "    return list(set(l))"
   ]
  },
  {
   "cell_type": "markdown",
   "id": "36b5f4b3",
   "metadata": {},
   "source": [
    "### Datenimport:"
   ]
  },
  {
   "cell_type": "code",
   "execution_count": 7,
   "id": "83dc9524",
   "metadata": {
    "tags": []
   },
   "outputs": [
    {
     "name": "stdout",
     "output_type": "stream",
     "text": [
      "CPU times: user 3min 12s, sys: 2min 44s, total: 5min 56s\n",
      "Wall time: 5min 56s\n"
     ]
    }
   ],
   "source": [
    "%%time\n",
    "# Zeit ausgeben lassen (muss alleine in der ersten Zeile stehen)\n",
    "\n",
    "# Daten einlesen \n",
    "# ACHTUNG: Benötigt über 100GB RAM!\n",
    "df = pd.read_json('/home/dave/NLP/WashingtonPost-v4/data/TREC_Washington_Post_collection.v4.jl', lines=True)"
   ]
  },
  {
   "cell_type": "markdown",
   "id": "44d53771",
   "metadata": {},
   "source": [
    "### Datenverarbeitung:"
   ]
  },
  {
   "cell_type": "code",
   "execution_count": 8,
   "id": "2ff31eab",
   "metadata": {},
   "outputs": [],
   "source": [
    "# Nicht verwendete Spalten löschen\n",
    "df.drop('article_url', inplace=True, axis=1)\n",
    "df.drop('published_date', inplace=True, axis=1)\n",
    "df.drop('content', inplace=True, axis=1)\n",
    "df.drop('orig-id', inplace=True, axis=1)\n",
    "df.drop('id', inplace=True, axis=1)\n",
    "df.drop('type', inplace=True, axis=1)\n",
    "df.drop('source', inplace=True, axis=1)\n"
   ]
  },
  {
   "cell_type": "code",
   "execution_count": 11,
   "id": "c5df8e3b-2d5e-4046-a907-fa494c68a847",
   "metadata": {},
   "outputs": [],
   "source": [
    "# RegEx Pattern und Variablen erstellen\n",
    "pattern_auth = \"\\s*\\w*\"\n",
    "pattern_at_empty = \"\" #(\\:*\\s*'')\n",
    "drop_list = []\n",
    "index = 0\n",
    "i = 0\n",
    "\n",
    "\n",
    "# Leere oder nicht gewollte Zeilen mit Hilfe von Autoren- und Titelspalte aussortieren\n",
    "for auth in df[\"author\"]:\n",
    "    at = re.search(pattern_auth, str(auth))\n",
    "    if at or len(str(auth)) <= 4:\n",
    "        drop_list.append(i)\n",
    "    if auth == \"\":\n",
    "        drop_list.append(i)\n",
    "    i+= 1\n",
    "    \n",
    "\n",
    "for tit in df[\"title\"]:\n",
    "  i = 0\n",
    "  if len(str(tit)) <= 4:\n",
    "    drop_list.append(i)\n",
    "  if auth == \"\":\n",
    "    drop_list.append(i)\n",
    "  i+= 1\n",
    "\n",
    "df = df.drop(remove_duplicates(drop_list))  \n",
    "\n",
    "# Indexreset, da Zeilen gelöscht wurden\n",
    "df = df.sort_index()\n",
    "df = df.reset_index(drop=True)"
   ]
  },
  {
   "cell_type": "markdown",
   "id": "403bb5b3",
   "metadata": {},
   "source": [
    "### Datenexport:"
   ]
  },
  {
   "cell_type": "code",
   "execution_count": 14,
   "id": "b73ddcc4-079a-4b9f-8726-65c34a985640",
   "metadata": {},
   "outputs": [
    {
     "name": "stdout",
     "output_type": "stream",
     "text": [
      "CPU times: user 41.5 s, sys: 6.49 s, total: 48 s\n",
      "Wall time: 48 s\n"
     ]
    }
   ],
   "source": [
    "%%time\n",
    "\n",
    "# Datei ist zu groß, um sie auf einem PC zu handhaben -> Auteilen in 8 Dateien\n",
    "le = int(len(df)/8)\n",
    "start = 0\n",
    "end = le\n",
    "i = 1 \n",
    "while i < 9:\n",
    "    df[start:end].to_json(\"/home/dave/NLP/WashingtonPost-v4/data/\"+str(i)+\".json\")\n",
    "    start = end\n",
    "    end = end + le\n",
    "    i += 1"
   ]
  },
  {
   "cell_type": "markdown",
   "id": "9c102a1e-6fa1-4334-a494-1c31d754fd53",
   "metadata": {},
   "source": [
    "# Daten-Pipeline Part 2\n",
    "- Loop durch o.g. Export<br>\n",
    "  - Aufteilen der \"content\"-Spalte in Meta- und Inhaltslisten<br>\n",
    "    - Aus Content leserlichen Text extrahieren<br>\n",
    "  - Filtern der erstellten Listen -> Erstellung neues, ordentliches Dataframe <br>\n",
    "  - Content und Meta mergen\n",
    "  - Export zu JSON"
   ]
  },
  {
   "cell_type": "code",
   "execution_count": 1,
   "id": "c68c7d2f-c61e-4ebe-8cd9-1be71c814d60",
   "metadata": {},
   "outputs": [],
   "source": [
    "#Erneute imports wegen Neustart Kernel\n",
    "import numpy as np\n",
    "import pandas as pd\n",
    "import fileinput\n",
    "import json\n",
    "from tqdm import tqdm\n",
    "tqdm.pandas()\n",
    "\n",
    "from tssplit import tssplit\n",
    "import re"
   ]
  },
  {
   "cell_type": "code",
   "execution_count": 2,
   "id": "adf3f64d-93f8-45ec-894d-0bfd7c0ccacb",
   "metadata": {},
   "outputs": [
    {
     "name": "stdout",
     "output_type": "stream",
     "text": [
      "CPU times: user 18min 5s, sys: 25.6 s, total: 18min 30s\n",
      "Wall time: 18min 31s\n"
     ]
    }
   ],
   "source": [
    "%%time\n",
    "\n",
    "# RegEx-Pattern \n",
    "pattern_paragraph = \"\\'subtype\\': \\'paragraph\\'\"\n",
    "pattern_date = \"\\d{4}-\\d{2}-\\d{2}T\\d{2}:\\d{2}:\\d{2}Z\"\n",
    "\n",
    "\n",
    "# Loop durch in Part 1 erstellte Exports\n",
    "for c in range(1,9):\n",
    "    \n",
    "    # Import in DataFrame\n",
    "    df = pd.read_json(\"/home/dave/NLP/WashingtonPost-v4/data/\"+str(c)+\".json\")\n",
    "    \n",
    "    # Indexreset \n",
    "    df = df.reset_index(drop=True)\n",
    "    \n",
    "    # Variablen erstellen\n",
    "    meta_List = []\n",
    "    content_List = []\n",
    "    j= 0\n",
    "\n",
    "    # Row-Wise Loop durch \"content\"\n",
    "    for article in df[\"contents\"]:\n",
    "        \n",
    "        # temporäre Variablen erstellen\n",
    "        temp_List_meta = []\n",
    "        temp_List_content = []\n",
    "        temp_List_content2 = []\n",
    "        temp_List_meta2 = []\n",
    "        temp_List_meta3 = []\n",
    "\n",
    "        # Loop durch \"article\", Inhalt mit RegEx von Meta trennen\n",
    "        # Meta und Content werden jeweils in temporäre Listen geschrieben\n",
    "        for eintrag in article:\n",
    "            x = re.search(pattern_paragraph, str(eintrag))\n",
    "            if x:\n",
    "                temp_List_content = [eintrag]\n",
    "                for t in temp_List_content:\n",
    "                    val = str(t)\n",
    "                    val3 = tssplit(val,quote=\"'\", delimiter=\",\")\n",
    "                    t4 = val3[0][10:]\n",
    "                    temp_List_content2.append(t4)\n",
    "            else:\n",
    "                temp_List_meta = [eintrag]\n",
    "                for t in temp_List_meta:\n",
    "\n",
    "                    val2 = str(t)\n",
    "                    val6 = val2.split(\",\")\n",
    "                    t8 = val6[0][13:]\n",
    "                    temp_List_meta2.append(t8)\n",
    "        \n",
    "        \n",
    "        \n",
    "        # Zusammenführung der temporären Metaliste 3 aus temporäre Metaliste 2 und Teilen des ursprünglichen DFs      \n",
    "        temp_List_meta3.append(temp_List_meta2[0])\n",
    "        temp_List_meta3.append(df[\"title\"][j])   \n",
    "        temp_List_meta3.append(df[\"author\"][j])\n",
    "\n",
    "        for m in temp_List_meta2:                \n",
    "            d = re.search(pattern_date, str(m))          \n",
    "            if d:\n",
    "                temp_List_meta3.append(m)\n",
    "            else:\n",
    "                continue\n",
    "        \n",
    "        \n",
    "        # Filterung der erstellten Listen, um leere und nicht gewollte Einträge auszuschließen\n",
    "        if len(3) >= 3 and len(temp_List_meta3) <= 4 and len(temp_List_content2) > 3:\n",
    "            meta_List.append(temp_List_meta3)    \n",
    "            content_List.append(\"\".join(temp_List_content2))\n",
    "        j+=1        \n",
    "\n",
    "    # Neue DFs aus den 2 Listen \n",
    "    dfMeta = pd.DataFrame(meta_List)\n",
    "    dfContent = pd.DataFrame(content_List)\n",
    "\n",
    "    # Bennenung der Spalten für beide DFs\n",
    "    dfContent = dfContent.set_axis([\"content\"], axis=1, inplace = False)\n",
    "    dfMeta = dfMeta.set_axis([\"Kategorie\",\"Titel\",\"Autor\",\"Datum\"], axis=1, inplace = False)\n",
    "\n",
    "    # Temporäre IDs fürs Zusammenführen der eben erstellten DFs erstellen\n",
    "    dfContent[\"id\"] = dfContent.index\n",
    "    dfMeta[\"id1\"] = dfMeta.index\n",
    "\n",
    "    # DFs zusammenführen\n",
    "    df = pd.merge(dfMeta,dfContent, left_on=\"id1\", right_on=\"id\", how=\"left\").drop(\"id1\",axis=1)\n",
    "    \n",
    "    \n",
    "    # Export des DFs zu einer JSON\n",
    "    df.to_json(\"/home/dave/NLP/WashingtonPost-v4/data/v6/\"+str(c)+\"_raw.json\")\n",
    "\n",
    "    c += 1"
   ]
  },
  {
   "cell_type": "markdown",
   "id": "f6b3e514-297c-49e1-9ed2-3bb445c5db61",
   "metadata": {},
   "source": [
    "# Kernel neu starten"
   ]
  },
  {
   "cell_type": "markdown",
   "id": "86ee4c0e-eb93-443c-93b8-a750aaa8fef1",
   "metadata": {},
   "source": [
    "# Daten-Pipeline Part 3\n",
    "- Loop durch o.g. Export<br>\n",
    "  - Säubern der Daten<br>\n",
    "  - Export zu JSON \n"
   ]
  },
  {
   "cell_type": "code",
   "execution_count": 2,
   "id": "e24dba47-62b4-4d39-a947-53a5a64c4f41",
   "metadata": {},
   "outputs": [],
   "source": [
    "from tqdm import tqdm\n",
    "import numpy as np\n",
    "import pandas as pd\n",
    "tqdm.pandas()\n",
    "import fileinput\n",
    "import re\n"
   ]
  },
  {
   "cell_type": "code",
   "execution_count": null,
   "id": "207f0fa3-288a-404c-9bf2-350f28a2d9f9",
   "metadata": {},
   "outputs": [],
   "source": [
    "!python -m spacy download en_core_web_md \n",
    "!python -m spacy download en_core_web_lg"
   ]
  },
  {
   "cell_type": "code",
   "execution_count": 5,
   "id": "2bd0dadb-361f-4f43-abf0-bd9e4ff00940",
   "metadata": {},
   "outputs": [
    {
     "name": "stdout",
     "output_type": "stream",
     "text": [
      "CPU times: user 56.7 s, sys: 15.5 s, total: 1min 12s\n",
      "Wall time: 1min 12s\n"
     ]
    }
   ],
   "source": [
    "%%time\n",
    "# Loop durch in Part 2 erstellte Exports\n",
    "for c in range(1,9):\n",
    "    \n",
    "    # Import in DataFrame\n",
    "    df = pd.read_json(\"/home/dave/NLP/WashingtonPost-v4/data/v6/\"+str(c)+\"_raw.json\")\n",
    "    \n",
    "    # Indexreset  \n",
    "    df = df.set_index('id')\n",
    "    \n",
    "    # Säubern der Daten\n",
    "    df.Kategorie = df.Kategorie.replace(\"\\\"$|\\'$\", \"\",regex=True)\n",
    "    df.content = df.content.replace(\"\\<.*?\\>\",\"\",regex=True)\n",
    "    df.Titel = df.Titel.replace(\"\\<.*?\\>\",\"\",regex=True)\n",
    "    df.Titel = df.Titel.replace(\"\\\"$|\\'$\", \"\",regex=True)\n",
    "    df.Datum = df.Datum.replace(\"\\\"$|\\'$\", \"\",regex=True) \n",
    "    \n",
    "    # Export zu JSON\n",
    "    df.to_json(\"data/v6/clean/\"+str(c)+\"_clean.json\")"
   ]
  },
  {
   "cell_type": "markdown",
   "id": "bf288e6c",
   "metadata": {},
   "source": [
    "# Kernel neu starten"
   ]
  },
  {
   "cell_type": "markdown",
   "id": "81f13d55",
   "metadata": {},
   "source": [
    "# Daten-Pipeline Part 3.2\n",
    "- Import von Kategorien(Export aus dem Datensatz, intellektuell erschlossen)<br>\n",
    "- Loop durch o.g. Export<br>\n",
    "  - Filterung der Daten nach Kategorien<br>\n",
    "  - Export zu JSON\n"
   ]
  },
  {
   "cell_type": "code",
   "execution_count": 1,
   "id": "a906735f",
   "metadata": {},
   "outputs": [],
   "source": [
    "from tqdm import tqdm\n",
    "import numpy as np\n",
    "import pandas as pd\n",
    "tqdm.pandas()\n",
    "import fileinput\n",
    "import re"
   ]
  },
  {
   "cell_type": "code",
   "execution_count": 2,
   "id": "ff0cc5d1",
   "metadata": {},
   "outputs": [],
   "source": [
    "# Import der Kategorien DF\n",
    "dfKat_behalten = pd.read_csv(\"/home/dave/NLP/WashingtonPost-v4/data/Kategorie_behalten.CSV\",header=None)\n",
    "\n",
    "# DF zu Liste\n",
    "Kat_behalten = list(dfKat_behalten[0])"
   ]
  },
  {
   "cell_type": "code",
   "execution_count": 4,
   "id": "202c268e",
   "metadata": {},
   "outputs": [
    {
     "name": "stdout",
     "output_type": "stream",
     "text": [
      "CPU times: user 52.4 s, sys: 10.2 s, total: 1min 2s\n",
      "Wall time: 1min 2s\n"
     ]
    }
   ],
   "source": [
    "%%time\n",
    "\n",
    "# Variable erstellen\n",
    "temp_list = []\n",
    "\n",
    "# Loop durch in Part 3 erstellte Exports\n",
    "for c in range(1,9):\n",
    "    \n",
    "    # Import in DataFrame\n",
    "    df = pd.read_json(\"/home/dave/NLP/WashingtonPost-v4/data/v6/clean/\"+str(c)+\"_clean.json\")\n",
    "    \n",
    "    # Variable erstellen, jeden Loop resetten\n",
    "    i=0\n",
    "    dfEnd = pd.DataFrame()\n",
    "    \n",
    "    # Filtern nach Kategorien\n",
    "    for a in df.iterrows():\n",
    "        if a[1][0] in Kat_behalten:\n",
    "            temp_list.append(a[1])\n",
    "        i+= 1\n",
    "\n",
    "# Temporäre Liste zu DF    \n",
    "dfEnd = pd.DataFrame(temp_list)\n",
    "\n",
    "# (Umständlicher) IndexReset\n",
    "dfEnd = dfEnd.reset_index()\n",
    "dfEnd = dfEnd.drop(\"index\", axis=1)\n",
    "dfEnd = dfEnd.reset_index()\n",
    "dfEnd = dfEnd.set_index('index')  "
   ]
  },
  {
   "cell_type": "code",
   "execution_count": 7,
   "id": "93bfd3f3",
   "metadata": {},
   "outputs": [
    {
     "name": "stdout",
     "output_type": "stream",
     "text": [
      "CPU times: user 3 s, sys: 2.97 s, total: 5.97 s\n",
      "Wall time: 5.97 s\n"
     ]
    }
   ],
   "source": [
    "%%time\n",
    "\n",
    "# Anzahl der zu erstellenden Exports\n",
    "anzahl = 16\n",
    "\n",
    "# Variablen\n",
    "le = int(len(dfEnd)/anzahl)\n",
    "start = 0\n",
    "end = le\n",
    "i = 1 \n",
    "\n",
    "# Export zu JSON\n",
    "while i < (anzahl+1):\n",
    "    dfEnd[start:end].to_json(\"/home/dave/NLP/WashingtonPost-v4/data/v6/rdy/\"+str(anzahl)+\"/\"+str(i)+\"_rdy.json\")\n",
    "    start = end\n",
    "    end = end + le\n",
    "    i += 1"
   ]
  },
  {
   "cell_type": "code",
   "execution_count": 8,
   "id": "34148f17-de40-4408-bd1d-37fffc08c195",
   "metadata": {},
   "outputs": [],
   "source": [
    "# Export zu einer großen JSON\n",
    "dfEnd.to_json(\"data/v6/rdy/all_rdy.json\")"
   ]
  },
  {
   "cell_type": "markdown",
   "id": "345a21ea",
   "metadata": {},
   "source": [
    "# Kernel neu starten"
   ]
  },
  {
   "cell_type": "code",
   "execution_count": 9,
   "id": "2dd4003b",
   "metadata": {},
   "outputs": [
    {
     "data": {
      "text/html": [
       "<div>\n",
       "<style scoped>\n",
       "    .dataframe tbody tr th:only-of-type {\n",
       "        vertical-align: middle;\n",
       "    }\n",
       "\n",
       "    .dataframe tbody tr th {\n",
       "        vertical-align: top;\n",
       "    }\n",
       "\n",
       "    .dataframe thead th {\n",
       "        text-align: right;\n",
       "    }\n",
       "</style>\n",
       "<table border=\"1\" class=\"dataframe\">\n",
       "  <thead>\n",
       "    <tr style=\"text-align: right;\">\n",
       "      <th></th>\n",
       "      <th>Kategorie</th>\n",
       "      <th>Titel</th>\n",
       "      <th>Autor</th>\n",
       "      <th>Datum</th>\n",
       "      <th>content</th>\n",
       "    </tr>\n",
       "    <tr>\n",
       "      <th>index</th>\n",
       "      <th></th>\n",
       "      <th></th>\n",
       "      <th></th>\n",
       "      <th></th>\n",
       "      <th></th>\n",
       "    </tr>\n",
       "  </thead>\n",
       "  <tbody>\n",
       "    <tr>\n",
       "      <th>0</th>\n",
       "      <td>Local</td>\n",
       "      <td>Bubbly planet Venus starts off New Year</td>\n",
       "      <td>Blaine P. Friedlander Jr.</td>\n",
       "      <td>2012-01-01T00:12:09Z</td>\n",
       "      <td>Set down your champagne and gaze west, as the ...</td>\n",
       "    </tr>\n",
       "    <tr>\n",
       "      <th>1</th>\n",
       "      <td>Politics</td>\n",
       "      <td>Iowa caucuses: GOP presidential hopefuls makin...</td>\n",
       "      <td>Karen Tumulty</td>\n",
       "      <td>2012-01-01T01:55:00Z</td>\n",
       "      <td>DES MOINES — Two days before the voting begins...</td>\n",
       "    </tr>\n",
       "    <tr>\n",
       "      <th>2</th>\n",
       "      <td>Local</td>\n",
       "      <td>Developer of Maryland housing office in Prince...</td>\n",
       "      <td>Ovetta Wiggins</td>\n",
       "      <td>2012-01-01T00:56:45Z</td>\n",
       "      <td>A developer who stands to gain millions by bui...</td>\n",
       "    </tr>\n",
       "    <tr>\n",
       "      <th>3</th>\n",
       "      <td>Politics</td>\n",
       "      <td>Many Iowans still don’t know who they will cau...</td>\n",
       "      <td>Jason Horowitz</td>\n",
       "      <td>2012-01-01T01:17:00Z</td>\n",
       "      <td>Early last week, a postcard advertising a rall...</td>\n",
       "    </tr>\n",
       "    <tr>\n",
       "      <th>4</th>\n",
       "      <td>Local</td>\n",
       "      <td>As homicides fall in D.C., rise in Prince Geor...</td>\n",
       "      <td>Allison Klein; Matt Zapotosky</td>\n",
       "      <td>2012-01-01T01:37:52Z</td>\n",
       "      <td>The District and Prince George’s County had ne...</td>\n",
       "    </tr>\n",
       "    <tr>\n",
       "      <th>...</th>\n",
       "      <td>...</td>\n",
       "      <td>...</td>\n",
       "      <td>...</td>\n",
       "      <td>...</td>\n",
       "      <td>...</td>\n",
       "    </tr>\n",
       "    <tr>\n",
       "      <th>229695</th>\n",
       "      <td>The Americas</td>\n",
       "      <td>She’s young, has no serious health conditions ...</td>\n",
       "      <td>Terrence McCoy; Heloísa Traiano</td>\n",
       "      <td>2020-12-31T11:04:10Z</td>\n",
       "      <td>On the 265th day of her isolation, Barbie Furt...</td>\n",
       "    </tr>\n",
       "    <tr>\n",
       "      <th>229696</th>\n",
       "      <td>Politics</td>\n",
       "      <td>Sen. David Perdue became wealthy outsourcing w...</td>\n",
       "      <td>Michael Kranish</td>\n",
       "      <td>2020-12-31T12:22:59Z</td>\n",
       "      <td>When Republican David Perdue ran for the Senat...</td>\n",
       "    </tr>\n",
       "    <tr>\n",
       "      <th>229697</th>\n",
       "      <td>Local</td>\n",
       "      <td>Leaders in Washington region pledge to increas...</td>\n",
       "      <td>Meagan Flynn; Rachel Chason; Rebecca Tan</td>\n",
       "      <td>2020-12-31T10:38:09Z</td>\n",
       "      <td>Vaccine rollout has moved slowly in the Washin...</td>\n",
       "    </tr>\n",
       "    <tr>\n",
       "      <th>229698</th>\n",
       "      <td>National Security</td>\n",
       "      <td>Nashville police defend response to 2019 tip t...</td>\n",
       "      <td>Derek Hawkins; Griff Witte</td>\n",
       "      <td>None</td>\n",
       "      <td>Local and federal law enforcement agents were ...</td>\n",
       "    </tr>\n",
       "    <tr>\n",
       "      <th>229699</th>\n",
       "      <td>The Post's View</td>\n",
       "      <td>The vaccine rollout is flagging. It must be ac...</td>\n",
       "      <td>Editorial Board</td>\n",
       "      <td>2020-12-31T00:32:38Z</td>\n",
       "      <td>UNLIKE WITH other botched aspects of the pande...</td>\n",
       "    </tr>\n",
       "  </tbody>\n",
       "</table>\n",
       "<p>229700 rows × 5 columns</p>\n",
       "</div>"
      ],
      "text/plain": [
       "                Kategorie                                              Titel  \\\n",
       "index                                                                          \n",
       "0                   Local            Bubbly planet Venus starts off New Year   \n",
       "1                Politics  Iowa caucuses: GOP presidential hopefuls makin...   \n",
       "2                   Local  Developer of Maryland housing office in Prince...   \n",
       "3                Politics  Many Iowans still don’t know who they will cau...   \n",
       "4                   Local  As homicides fall in D.C., rise in Prince Geor...   \n",
       "...                   ...                                                ...   \n",
       "229695       The Americas  She’s young, has no serious health conditions ...   \n",
       "229696           Politics  Sen. David Perdue became wealthy outsourcing w...   \n",
       "229697              Local  Leaders in Washington region pledge to increas...   \n",
       "229698  National Security  Nashville police defend response to 2019 tip t...   \n",
       "229699    The Post's View  The vaccine rollout is flagging. It must be ac...   \n",
       "\n",
       "                                           Autor                 Datum  \\\n",
       "index                                                                    \n",
       "0                      Blaine P. Friedlander Jr.  2012-01-01T00:12:09Z   \n",
       "1                                  Karen Tumulty  2012-01-01T01:55:00Z   \n",
       "2                                 Ovetta Wiggins  2012-01-01T00:56:45Z   \n",
       "3                                 Jason Horowitz  2012-01-01T01:17:00Z   \n",
       "4                  Allison Klein; Matt Zapotosky  2012-01-01T01:37:52Z   \n",
       "...                                          ...                   ...   \n",
       "229695           Terrence McCoy; Heloísa Traiano  2020-12-31T11:04:10Z   \n",
       "229696                           Michael Kranish  2020-12-31T12:22:59Z   \n",
       "229697  Meagan Flynn; Rachel Chason; Rebecca Tan  2020-12-31T10:38:09Z   \n",
       "229698                Derek Hawkins; Griff Witte                  None   \n",
       "229699                           Editorial Board  2020-12-31T00:32:38Z   \n",
       "\n",
       "                                                  content  \n",
       "index                                                      \n",
       "0       Set down your champagne and gaze west, as the ...  \n",
       "1       DES MOINES — Two days before the voting begins...  \n",
       "2       A developer who stands to gain millions by bui...  \n",
       "3       Early last week, a postcard advertising a rall...  \n",
       "4       The District and Prince George’s County had ne...  \n",
       "...                                                   ...  \n",
       "229695  On the 265th day of her isolation, Barbie Furt...  \n",
       "229696  When Republican David Perdue ran for the Senat...  \n",
       "229697  Vaccine rollout has moved slowly in the Washin...  \n",
       "229698  Local and federal law enforcement agents were ...  \n",
       "229699  UNLIKE WITH other botched aspects of the pande...  \n",
       "\n",
       "[229700 rows x 5 columns]"
      ]
     },
     "execution_count": 9,
     "metadata": {},
     "output_type": "execute_result"
    }
   ],
   "source": [
    "dfEnd"
   ]
  }
 ],
 "metadata": {
  "kernelspec": {
   "display_name": "Python 3 (ipykernel)",
   "language": "python",
   "name": "python3"
  },
  "language_info": {
   "codemirror_mode": {
    "name": "ipython",
    "version": 3
   },
   "file_extension": ".py",
   "mimetype": "text/x-python",
   "name": "python",
   "nbconvert_exporter": "python",
   "pygments_lexer": "ipython3",
   "version": "3.10.4"
  },
  "vscode": {
   "interpreter": {
    "hash": "632924e73c662d7eb2092878768cabae4c1618472e5b2e0bb7284b4110ee9d56"
   }
  }
 },
 "nbformat": 4,
 "nbformat_minor": 5
}
