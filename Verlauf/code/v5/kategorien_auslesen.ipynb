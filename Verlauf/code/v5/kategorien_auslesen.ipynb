{
 "cells": [
  {
   "cell_type": "code",
   "execution_count": null,
   "id": "074a8ce1",
   "metadata": {},
   "outputs": [],
   "source": [
    "from tqdm import tqdm\n",
    "import numpy as np\n",
    "import pandas as pd\n",
    "tqdm.pandas()\n",
    "import fileinput\n",
    "import pickle\n",
    "import re\n",
    "import spacy\n",
    "from pandarallel import pandarallel"
   ]
  },
  {
   "cell_type": "code",
   "execution_count": null,
   "id": "5345d5de",
   "metadata": {},
   "outputs": [],
   "source": [
    "kategorie_all = []\n",
    "kategorie = []"
   ]
  },
  {
   "cell_type": "code",
   "execution_count": null,
   "id": "d95ca17b",
   "metadata": {},
   "outputs": [],
   "source": [
    "kategorie = []\n",
    "\n",
    "for c in range(1,9):\n",
    "    \n",
    "    df2 = pd.read_pickle(\"P:/uni/nlp/WashingtonPost_v4/data/v5/\"+str(c)+\"_clean.pkl\")\n",
    "    \n",
    "    for each in df2.Kategorie:\n",
    "        kategorie.append(each)\n",
    "\n",
    "    kategorie_all.append(list(kategorie))\n",
    "    kategorie = []  \n"
   ]
  },
  {
   "cell_type": "code",
   "execution_count": null,
   "id": "bef08fbd",
   "metadata": {},
   "outputs": [],
   "source": [
    "endlist = []\n",
    "for each in kategorie_all:\n",
    "    for each2 in each:\n",
    "        endlist.append(each2)\n",
    "        \n",
    "endlist = list(set(endlist))"
   ]
  },
  {
   "cell_type": "code",
   "execution_count": null,
   "id": "8e8815ac",
   "metadata": {},
   "outputs": [],
   "source": [
    "dfKat = pd.DataFrame(endlist)\n",
    "#dfKat\n",
    "dfKat = dfKat.sort_values(0)"
   ]
  },
  {
   "cell_type": "code",
   "execution_count": null,
   "id": "a04df191",
   "metadata": {},
   "outputs": [],
   "source": [
    "dfKat.to_csv(\"test.csv\")"
   ]
  },
  {
   "cell_type": "code",
   "execution_count": null,
   "id": "b1f32971",
   "metadata": {},
   "outputs": [],
   "source": [
    "dfkat_behalten = pd.read_csv(\"P:/uni/nlp/WashingtonPost_v4/Kategorie_behalten.CSV\")"
   ]
  }
 ],
 "metadata": {
  "kernelspec": {
   "display_name": "Python 3.10.1 64-bit",
   "language": "python",
   "name": "python3"
  },
  "language_info": {
   "name": "python",
   "version": "3.10.1"
  },
  "orig_nbformat": 4,
  "vscode": {
   "interpreter": {
    "hash": "96ea463da8b265c951058de84b9645eca36b660a1a779c7b0eff4941594f7f98"
   }
  }
 },
 "nbformat": 4,
 "nbformat_minor": 2
}
